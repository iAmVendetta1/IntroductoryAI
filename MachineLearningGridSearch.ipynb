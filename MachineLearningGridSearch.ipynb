{
  "cells": [
    {
      "cell_type": "markdown",
      "source": [
        "# COSC-x40: Lab 6\n",
        "\n",
        "**Student Name**\n",
        "\n",
        "[PLACEHOLDER_FOR_NOTEBOOK_LINK]\n"
      ],
      "metadata": {
        "id": "Nz2iykx7TUy8"
      },
      "id": "Nz2iykx7TUy8"
    },
    {
      "cell_type": "markdown",
      "id": "edef32b8-886f-4e07-9713-e39eafe8f24a",
      "metadata": {
        "tags": [],
        "id": "edef32b8-886f-4e07-9713-e39eafe8f24a"
      },
      "source": [
        "## Getting Started\n",
        "\n",
        "Follow the instructions below to copy this notebook and to perform some initial setup.\n",
        "\n",
        "1. Copy this notebook by selecting `File > Save a copy in Drive`.\n",
        "2. A new window should open for the copied notebook. Move the new notebook to your course folder in Google Drive by selecting `File > Move` and then selecting the desired folder.\n",
        "3. Update the name of the notebook by removing \"Copy of\" and replacing \"Username\" with your actual username.\n",
        "4. Update the first cell in the notebook by specifying your course number (440 or 640) and by replacing \"**Student Name**\" with your actual name.\n",
        "5. Do not edit the line that says `PLACEHOLDER_FOR_NOTEBOOK_LINK`. This will be used by the [Notebook Renderer](https://colab.research.google.com/drive/1CJTipys46ldZxJFwnt7XbdjQUfkmoXeU?usp=sharing) tool to insert a link to your Colab notebook.\n",
        "6. Enable link sharing for your notebook."
      ]
    },
    {
      "cell_type": "markdown",
      "source": [
        "## Preparing the Colab Environment\n",
        "\n",
        "Run the cell below to download and extract the datasets required for this lab. All of the required datasets will then be stored on the Colab VM in a folder named `data/`."
      ],
      "metadata": {
        "id": "sLbYRf5WTZ0f"
      },
      "id": "sLbYRf5WTZ0f"
    },
    {
      "cell_type": "code",
      "source": [
        "%%capture\n",
        "!wget -nc https://github.com/drbeane/datasets/raw/main/COSC_640_data.zip\n",
        "!unzip -n COSC_640_data.zip -d data/"
      ],
      "metadata": {
        "id": "8aELgQQ2TdEt"
      },
      "id": "8aELgQQ2TdEt",
      "execution_count": 1,
      "outputs": []
    },
    {
      "cell_type": "markdown",
      "source": [
        "Run the cell below to import the necessary tools for this assignment. **No other import statements are required for this Lab, and no other import statements should be included in this assignment.**"
      ],
      "metadata": {
        "id": "IAIP4jp7TcHT"
      },
      "id": "IAIP4jp7TcHT"
    },
    {
      "cell_type": "code",
      "execution_count": 2,
      "id": "36db57f8-b0ac-4d38-8ee3-b7da3499a6ce",
      "metadata": {
        "id": "36db57f8-b0ac-4d38-8ee3-b7da3499a6ce"
      },
      "outputs": [],
      "source": [
        "import numpy as np\n",
        "import pandas as pd\n",
        "import matplotlib.pyplot as plt\n",
        "\n",
        "from sklearn.linear_model import LogisticRegression\n",
        "from sklearn.neighbors import KNeighborsClassifier\n",
        "from sklearn.tree import DecisionTreeClassifier\n",
        "from sklearn.ensemble import RandomForestClassifier\n",
        "\n",
        "from sklearn.preprocessing import StandardScaler, OneHotEncoder\n",
        "from sklearn.compose  import ColumnTransformer\n",
        "\n",
        "from sklearn.model_selection import cross_val_score, cross_val_predict, GridSearchCV\n",
        "from sklearn.metrics import classification_report, confusion_matrix"
      ]
    },
    {
      "cell_type": "markdown",
      "id": "c0cbc112-67a9-41f7-91a0-813fd2d82fa5",
      "metadata": {
        "id": "c0cbc112-67a9-41f7-91a0-813fd2d82fa5"
      },
      "source": [
        "# Part 1: Data Preparation (Census Data)\n",
        "\n",
        "In Parts 1 and 2, you will be working with the \"Census Income\" dataset. In Part 1, you will prepare the data and in Part 2, you will select, train, and apply a model.\n",
        "\n",
        "Your goal will be to create a model to predict whether or not an individual has an annual salary greater than $50,000 based on various demographic factors. You can find more information about the dataset, including a description of the features here: [Census Income Dataset](https://archive.ics.uci.edu/ml/datasets/adult).\n",
        "\n",
        "Note that the label values are stored in the `income` column. All other columns represent features. All feature columns containing numerical values represent numerical features and all feature columns containing string values represent categorical features.\n",
        "\n",
        "**Note:** In the interest of time, you will work with only half of the Census dataset in Parts 1 and 2. Some of the cross validations steps would require a significant amount of time to run in the Colab environment if we were to run them on the entire dataset."
      ]
    },
    {
      "cell_type": "markdown",
      "source": [
        "## 1.A - Load the Data\n",
        "\n",
        "Load the data from the file `data/census.csv` into a DataFrame. Use the `sample()` method to shuffle the data, setting `frac=0.5` and `random_state=1`. Display the head of the DataFrame.\n",
        "\n",
        "**Pay careful attention to the instructions above regarding the parameters for `sample()`.**"
      ],
      "metadata": {
        "id": "Zacd8XxBUDC3"
      },
      "id": "Zacd8XxBUDC3"
    },
    {
      "cell_type": "code",
      "execution_count": 3,
      "id": "f6e6e427-b22d-49cc-8b42-ae23d962c0fc",
      "metadata": {
        "id": "f6e6e427-b22d-49cc-8b42-ae23d962c0fc",
        "colab": {
          "base_uri": "https://localhost:8080/",
          "height": 293
        },
        "outputId": "20ab647b-26c5-4b52-f1dc-9b3732dc5eee"
      },
      "outputs": [
        {
          "output_type": "execute_result",
          "data": {
            "text/plain": [
              "       age    workclass  fnlwgt  education  educ_num      marital_status  \\\n",
              "9646    24      Private  336088    HS-grad         9            Divorced   \n",
              "709     34  Federal-gov  190228  Bachelors        13  Married-civ-spouse   \n",
              "7385    18      Private  104704    HS-grad         9       Never-married   \n",
              "16671   44      Private   36271  Bachelors        13  Married-civ-spouse   \n",
              "21932   27      Private  178709    Masters        14       Never-married   \n",
              "\n",
              "              occupation   relationship                race     sex  \\\n",
              "9646     Exec-managerial  Not-in-family  Amer-Indian-Eskimo  Female   \n",
              "709      Protective-serv        Husband               White    Male   \n",
              "7385        Adm-clerical      Own-child               Black    Male   \n",
              "16671       Craft-repair        Husband               White    Male   \n",
              "21932  Machine-op-inspct  Not-in-family               White  Female   \n",
              "\n",
              "       capital_gain  capital_loss  hrs_per_week native_country income  \n",
              "9646              0             0            50  United-States  <=50K  \n",
              "709               0          1902            48  United-States   >50K  \n",
              "7385              0             0            40  United-States  <=50K  \n",
              "16671             0             0            40  United-States  <=50K  \n",
              "21932             0             0            40  United-States  <=50K  "
            ],
            "text/html": [
              "\n",
              "  <div id=\"df-153be754-b2ac-4c9f-a1ed-c15c3b440006\" class=\"colab-df-container\">\n",
              "    <div>\n",
              "<style scoped>\n",
              "    .dataframe tbody tr th:only-of-type {\n",
              "        vertical-align: middle;\n",
              "    }\n",
              "\n",
              "    .dataframe tbody tr th {\n",
              "        vertical-align: top;\n",
              "    }\n",
              "\n",
              "    .dataframe thead th {\n",
              "        text-align: right;\n",
              "    }\n",
              "</style>\n",
              "<table border=\"1\" class=\"dataframe\">\n",
              "  <thead>\n",
              "    <tr style=\"text-align: right;\">\n",
              "      <th></th>\n",
              "      <th>age</th>\n",
              "      <th>workclass</th>\n",
              "      <th>fnlwgt</th>\n",
              "      <th>education</th>\n",
              "      <th>educ_num</th>\n",
              "      <th>marital_status</th>\n",
              "      <th>occupation</th>\n",
              "      <th>relationship</th>\n",
              "      <th>race</th>\n",
              "      <th>sex</th>\n",
              "      <th>capital_gain</th>\n",
              "      <th>capital_loss</th>\n",
              "      <th>hrs_per_week</th>\n",
              "      <th>native_country</th>\n",
              "      <th>income</th>\n",
              "    </tr>\n",
              "  </thead>\n",
              "  <tbody>\n",
              "    <tr>\n",
              "      <th>9646</th>\n",
              "      <td>24</td>\n",
              "      <td>Private</td>\n",
              "      <td>336088</td>\n",
              "      <td>HS-grad</td>\n",
              "      <td>9</td>\n",
              "      <td>Divorced</td>\n",
              "      <td>Exec-managerial</td>\n",
              "      <td>Not-in-family</td>\n",
              "      <td>Amer-Indian-Eskimo</td>\n",
              "      <td>Female</td>\n",
              "      <td>0</td>\n",
              "      <td>0</td>\n",
              "      <td>50</td>\n",
              "      <td>United-States</td>\n",
              "      <td>&lt;=50K</td>\n",
              "    </tr>\n",
              "    <tr>\n",
              "      <th>709</th>\n",
              "      <td>34</td>\n",
              "      <td>Federal-gov</td>\n",
              "      <td>190228</td>\n",
              "      <td>Bachelors</td>\n",
              "      <td>13</td>\n",
              "      <td>Married-civ-spouse</td>\n",
              "      <td>Protective-serv</td>\n",
              "      <td>Husband</td>\n",
              "      <td>White</td>\n",
              "      <td>Male</td>\n",
              "      <td>0</td>\n",
              "      <td>1902</td>\n",
              "      <td>48</td>\n",
              "      <td>United-States</td>\n",
              "      <td>&gt;50K</td>\n",
              "    </tr>\n",
              "    <tr>\n",
              "      <th>7385</th>\n",
              "      <td>18</td>\n",
              "      <td>Private</td>\n",
              "      <td>104704</td>\n",
              "      <td>HS-grad</td>\n",
              "      <td>9</td>\n",
              "      <td>Never-married</td>\n",
              "      <td>Adm-clerical</td>\n",
              "      <td>Own-child</td>\n",
              "      <td>Black</td>\n",
              "      <td>Male</td>\n",
              "      <td>0</td>\n",
              "      <td>0</td>\n",
              "      <td>40</td>\n",
              "      <td>United-States</td>\n",
              "      <td>&lt;=50K</td>\n",
              "    </tr>\n",
              "    <tr>\n",
              "      <th>16671</th>\n",
              "      <td>44</td>\n",
              "      <td>Private</td>\n",
              "      <td>36271</td>\n",
              "      <td>Bachelors</td>\n",
              "      <td>13</td>\n",
              "      <td>Married-civ-spouse</td>\n",
              "      <td>Craft-repair</td>\n",
              "      <td>Husband</td>\n",
              "      <td>White</td>\n",
              "      <td>Male</td>\n",
              "      <td>0</td>\n",
              "      <td>0</td>\n",
              "      <td>40</td>\n",
              "      <td>United-States</td>\n",
              "      <td>&lt;=50K</td>\n",
              "    </tr>\n",
              "    <tr>\n",
              "      <th>21932</th>\n",
              "      <td>27</td>\n",
              "      <td>Private</td>\n",
              "      <td>178709</td>\n",
              "      <td>Masters</td>\n",
              "      <td>14</td>\n",
              "      <td>Never-married</td>\n",
              "      <td>Machine-op-inspct</td>\n",
              "      <td>Not-in-family</td>\n",
              "      <td>White</td>\n",
              "      <td>Female</td>\n",
              "      <td>0</td>\n",
              "      <td>0</td>\n",
              "      <td>40</td>\n",
              "      <td>United-States</td>\n",
              "      <td>&lt;=50K</td>\n",
              "    </tr>\n",
              "  </tbody>\n",
              "</table>\n",
              "</div>\n",
              "    <div class=\"colab-df-buttons\">\n",
              "\n",
              "  <div class=\"colab-df-container\">\n",
              "    <button class=\"colab-df-convert\" onclick=\"convertToInteractive('df-153be754-b2ac-4c9f-a1ed-c15c3b440006')\"\n",
              "            title=\"Convert this dataframe to an interactive table.\"\n",
              "            style=\"display:none;\">\n",
              "\n",
              "  <svg xmlns=\"http://www.w3.org/2000/svg\" height=\"24px\" viewBox=\"0 -960 960 960\">\n",
              "    <path d=\"M120-120v-720h720v720H120Zm60-500h600v-160H180v160Zm220 220h160v-160H400v160Zm0 220h160v-160H400v160ZM180-400h160v-160H180v160Zm440 0h160v-160H620v160ZM180-180h160v-160H180v160Zm440 0h160v-160H620v160Z\"/>\n",
              "  </svg>\n",
              "    </button>\n",
              "\n",
              "  <style>\n",
              "    .colab-df-container {\n",
              "      display:flex;\n",
              "      gap: 12px;\n",
              "    }\n",
              "\n",
              "    .colab-df-convert {\n",
              "      background-color: #E8F0FE;\n",
              "      border: none;\n",
              "      border-radius: 50%;\n",
              "      cursor: pointer;\n",
              "      display: none;\n",
              "      fill: #1967D2;\n",
              "      height: 32px;\n",
              "      padding: 0 0 0 0;\n",
              "      width: 32px;\n",
              "    }\n",
              "\n",
              "    .colab-df-convert:hover {\n",
              "      background-color: #E2EBFA;\n",
              "      box-shadow: 0px 1px 2px rgba(60, 64, 67, 0.3), 0px 1px 3px 1px rgba(60, 64, 67, 0.15);\n",
              "      fill: #174EA6;\n",
              "    }\n",
              "\n",
              "    .colab-df-buttons div {\n",
              "      margin-bottom: 4px;\n",
              "    }\n",
              "\n",
              "    [theme=dark] .colab-df-convert {\n",
              "      background-color: #3B4455;\n",
              "      fill: #D2E3FC;\n",
              "    }\n",
              "\n",
              "    [theme=dark] .colab-df-convert:hover {\n",
              "      background-color: #434B5C;\n",
              "      box-shadow: 0px 1px 3px 1px rgba(0, 0, 0, 0.15);\n",
              "      filter: drop-shadow(0px 1px 2px rgba(0, 0, 0, 0.3));\n",
              "      fill: #FFFFFF;\n",
              "    }\n",
              "  </style>\n",
              "\n",
              "    <script>\n",
              "      const buttonEl =\n",
              "        document.querySelector('#df-153be754-b2ac-4c9f-a1ed-c15c3b440006 button.colab-df-convert');\n",
              "      buttonEl.style.display =\n",
              "        google.colab.kernel.accessAllowed ? 'block' : 'none';\n",
              "\n",
              "      async function convertToInteractive(key) {\n",
              "        const element = document.querySelector('#df-153be754-b2ac-4c9f-a1ed-c15c3b440006');\n",
              "        const dataTable =\n",
              "          await google.colab.kernel.invokeFunction('convertToInteractive',\n",
              "                                                    [key], {});\n",
              "        if (!dataTable) return;\n",
              "\n",
              "        const docLinkHtml = 'Like what you see? Visit the ' +\n",
              "          '<a target=\"_blank\" href=https://colab.research.google.com/notebooks/data_table.ipynb>data table notebook</a>'\n",
              "          + ' to learn more about interactive tables.';\n",
              "        element.innerHTML = '';\n",
              "        dataTable['output_type'] = 'display_data';\n",
              "        await google.colab.output.renderOutput(dataTable, element);\n",
              "        const docLink = document.createElement('div');\n",
              "        docLink.innerHTML = docLinkHtml;\n",
              "        element.appendChild(docLink);\n",
              "      }\n",
              "    </script>\n",
              "  </div>\n",
              "\n",
              "\n",
              "<div id=\"df-33841563-b1c9-4f1c-b76b-391754ee8c70\">\n",
              "  <button class=\"colab-df-quickchart\" onclick=\"quickchart('df-33841563-b1c9-4f1c-b76b-391754ee8c70')\"\n",
              "            title=\"Suggest charts\"\n",
              "            style=\"display:none;\">\n",
              "\n",
              "<svg xmlns=\"http://www.w3.org/2000/svg\" height=\"24px\"viewBox=\"0 0 24 24\"\n",
              "     width=\"24px\">\n",
              "    <g>\n",
              "        <path d=\"M19 3H5c-1.1 0-2 .9-2 2v14c0 1.1.9 2 2 2h14c1.1 0 2-.9 2-2V5c0-1.1-.9-2-2-2zM9 17H7v-7h2v7zm4 0h-2V7h2v10zm4 0h-2v-4h2v4z\"/>\n",
              "    </g>\n",
              "</svg>\n",
              "  </button>\n",
              "\n",
              "<style>\n",
              "  .colab-df-quickchart {\n",
              "      --bg-color: #E8F0FE;\n",
              "      --fill-color: #1967D2;\n",
              "      --hover-bg-color: #E2EBFA;\n",
              "      --hover-fill-color: #174EA6;\n",
              "      --disabled-fill-color: #AAA;\n",
              "      --disabled-bg-color: #DDD;\n",
              "  }\n",
              "\n",
              "  [theme=dark] .colab-df-quickchart {\n",
              "      --bg-color: #3B4455;\n",
              "      --fill-color: #D2E3FC;\n",
              "      --hover-bg-color: #434B5C;\n",
              "      --hover-fill-color: #FFFFFF;\n",
              "      --disabled-bg-color: #3B4455;\n",
              "      --disabled-fill-color: #666;\n",
              "  }\n",
              "\n",
              "  .colab-df-quickchart {\n",
              "    background-color: var(--bg-color);\n",
              "    border: none;\n",
              "    border-radius: 50%;\n",
              "    cursor: pointer;\n",
              "    display: none;\n",
              "    fill: var(--fill-color);\n",
              "    height: 32px;\n",
              "    padding: 0;\n",
              "    width: 32px;\n",
              "  }\n",
              "\n",
              "  .colab-df-quickchart:hover {\n",
              "    background-color: var(--hover-bg-color);\n",
              "    box-shadow: 0 1px 2px rgba(60, 64, 67, 0.3), 0 1px 3px 1px rgba(60, 64, 67, 0.15);\n",
              "    fill: var(--button-hover-fill-color);\n",
              "  }\n",
              "\n",
              "  .colab-df-quickchart-complete:disabled,\n",
              "  .colab-df-quickchart-complete:disabled:hover {\n",
              "    background-color: var(--disabled-bg-color);\n",
              "    fill: var(--disabled-fill-color);\n",
              "    box-shadow: none;\n",
              "  }\n",
              "\n",
              "  .colab-df-spinner {\n",
              "    border: 2px solid var(--fill-color);\n",
              "    border-color: transparent;\n",
              "    border-bottom-color: var(--fill-color);\n",
              "    animation:\n",
              "      spin 1s steps(1) infinite;\n",
              "  }\n",
              "\n",
              "  @keyframes spin {\n",
              "    0% {\n",
              "      border-color: transparent;\n",
              "      border-bottom-color: var(--fill-color);\n",
              "      border-left-color: var(--fill-color);\n",
              "    }\n",
              "    20% {\n",
              "      border-color: transparent;\n",
              "      border-left-color: var(--fill-color);\n",
              "      border-top-color: var(--fill-color);\n",
              "    }\n",
              "    30% {\n",
              "      border-color: transparent;\n",
              "      border-left-color: var(--fill-color);\n",
              "      border-top-color: var(--fill-color);\n",
              "      border-right-color: var(--fill-color);\n",
              "    }\n",
              "    40% {\n",
              "      border-color: transparent;\n",
              "      border-right-color: var(--fill-color);\n",
              "      border-top-color: var(--fill-color);\n",
              "    }\n",
              "    60% {\n",
              "      border-color: transparent;\n",
              "      border-right-color: var(--fill-color);\n",
              "    }\n",
              "    80% {\n",
              "      border-color: transparent;\n",
              "      border-right-color: var(--fill-color);\n",
              "      border-bottom-color: var(--fill-color);\n",
              "    }\n",
              "    90% {\n",
              "      border-color: transparent;\n",
              "      border-bottom-color: var(--fill-color);\n",
              "    }\n",
              "  }\n",
              "</style>\n",
              "\n",
              "  <script>\n",
              "    async function quickchart(key) {\n",
              "      const quickchartButtonEl =\n",
              "        document.querySelector('#' + key + ' button');\n",
              "      quickchartButtonEl.disabled = true;  // To prevent multiple clicks.\n",
              "      quickchartButtonEl.classList.add('colab-df-spinner');\n",
              "      try {\n",
              "        const charts = await google.colab.kernel.invokeFunction(\n",
              "            'suggestCharts', [key], {});\n",
              "      } catch (error) {\n",
              "        console.error('Error during call to suggestCharts:', error);\n",
              "      }\n",
              "      quickchartButtonEl.classList.remove('colab-df-spinner');\n",
              "      quickchartButtonEl.classList.add('colab-df-quickchart-complete');\n",
              "    }\n",
              "    (() => {\n",
              "      let quickchartButtonEl =\n",
              "        document.querySelector('#df-33841563-b1c9-4f1c-b76b-391754ee8c70 button');\n",
              "      quickchartButtonEl.style.display =\n",
              "        google.colab.kernel.accessAllowed ? 'block' : 'none';\n",
              "    })();\n",
              "  </script>\n",
              "</div>\n",
              "\n",
              "    </div>\n",
              "  </div>\n"
            ],
            "application/vnd.google.colaboratory.intrinsic+json": {
              "type": "dataframe",
              "variable_name": "census",
              "summary": "{\n  \"name\": \"census\",\n  \"rows\": 16280,\n  \"fields\": [\n    {\n      \"column\": \"age\",\n      \"properties\": {\n        \"dtype\": \"number\",\n        \"std\": 13,\n        \"min\": 17,\n        \"max\": 90,\n        \"num_unique_values\": 71,\n        \"samples\": [\n          41,\n          24,\n          53\n        ],\n        \"semantic_type\": \"\",\n        \"description\": \"\"\n      }\n    },\n    {\n      \"column\": \"workclass\",\n      \"properties\": {\n        \"dtype\": \"category\",\n        \"num_unique_values\": 8,\n        \"samples\": [\n          \"Federal-gov\",\n          \"State-gov\",\n          \"Private\"\n        ],\n        \"semantic_type\": \"\",\n        \"description\": \"\"\n      }\n    },\n    {\n      \"column\": \"fnlwgt\",\n      \"properties\": {\n        \"dtype\": \"number\",\n        \"std\": 108081,\n        \"min\": 12285,\n        \"max\": 1484705,\n        \"num_unique_values\": 12835,\n        \"samples\": [\n          99270,\n          172071,\n          138634\n        ],\n        \"semantic_type\": \"\",\n        \"description\": \"\"\n      }\n    },\n    {\n      \"column\": \"education\",\n      \"properties\": {\n        \"dtype\": \"category\",\n        \"num_unique_values\": 16,\n        \"samples\": [\n          \"HS-grad\",\n          \"Bachelors\",\n          \"9th\"\n        ],\n        \"semantic_type\": \"\",\n        \"description\": \"\"\n      }\n    },\n    {\n      \"column\": \"educ_num\",\n      \"properties\": {\n        \"dtype\": \"number\",\n        \"std\": 2,\n        \"min\": 1,\n        \"max\": 16,\n        \"num_unique_values\": 16,\n        \"samples\": [\n          9,\n          13,\n          5\n        ],\n        \"semantic_type\": \"\",\n        \"description\": \"\"\n      }\n    },\n    {\n      \"column\": \"marital_status\",\n      \"properties\": {\n        \"dtype\": \"category\",\n        \"num_unique_values\": 7,\n        \"samples\": [\n          \"Divorced\",\n          \"Married-civ-spouse\",\n          \"Widowed\"\n        ],\n        \"semantic_type\": \"\",\n        \"description\": \"\"\n      }\n    },\n    {\n      \"column\": \"occupation\",\n      \"properties\": {\n        \"dtype\": \"category\",\n        \"num_unique_values\": 14,\n        \"samples\": [\n          \"Handlers-cleaners\",\n          \"Tech-support\",\n          \"Exec-managerial\"\n        ],\n        \"semantic_type\": \"\",\n        \"description\": \"\"\n      }\n    },\n    {\n      \"column\": \"relationship\",\n      \"properties\": {\n        \"dtype\": \"category\",\n        \"num_unique_values\": 6,\n        \"samples\": [\n          \"Not-in-family\",\n          \"Husband\",\n          \"Other-relative\"\n        ],\n        \"semantic_type\": \"\",\n        \"description\": \"\"\n      }\n    },\n    {\n      \"column\": \"race\",\n      \"properties\": {\n        \"dtype\": \"category\",\n        \"num_unique_values\": 5,\n        \"samples\": [\n          \"White\",\n          \"Other\",\n          \"Black\"\n        ],\n        \"semantic_type\": \"\",\n        \"description\": \"\"\n      }\n    },\n    {\n      \"column\": \"sex\",\n      \"properties\": {\n        \"dtype\": \"category\",\n        \"num_unique_values\": 2,\n        \"samples\": [\n          \"Male\",\n          \"Female\"\n        ],\n        \"semantic_type\": \"\",\n        \"description\": \"\"\n      }\n    },\n    {\n      \"column\": \"capital_gain\",\n      \"properties\": {\n        \"dtype\": \"number\",\n        \"std\": 7190,\n        \"min\": 0,\n        \"max\": 99999,\n        \"num_unique_values\": 113,\n        \"samples\": [\n          6097,\n          1409\n        ],\n        \"semantic_type\": \"\",\n        \"description\": \"\"\n      }\n    },\n    {\n      \"column\": \"capital_loss\",\n      \"properties\": {\n        \"dtype\": \"number\",\n        \"std\": 412,\n        \"min\": 0,\n        \"max\": 4356,\n        \"num_unique_values\": 80,\n        \"samples\": [\n          1504,\n          0\n        ],\n        \"semantic_type\": \"\",\n        \"description\": \"\"\n      }\n    },\n    {\n      \"column\": \"hrs_per_week\",\n      \"properties\": {\n        \"dtype\": \"number\",\n        \"std\": 12,\n        \"min\": 1,\n        \"max\": 99,\n        \"num_unique_values\": 88,\n        \"samples\": [\n          13,\n          50\n        ],\n        \"semantic_type\": \"\",\n        \"description\": \"\"\n      }\n    },\n    {\n      \"column\": \"native_country\",\n      \"properties\": {\n        \"dtype\": \"category\",\n        \"num_unique_values\": 41,\n        \"samples\": [\n          \"Taiwan\",\n          \"Cuba\"\n        ],\n        \"semantic_type\": \"\",\n        \"description\": \"\"\n      }\n    },\n    {\n      \"column\": \"income\",\n      \"properties\": {\n        \"dtype\": \"category\",\n        \"num_unique_values\": 2,\n        \"samples\": [\n          \">50K\",\n          \"<=50K\"\n        ],\n        \"semantic_type\": \"\",\n        \"description\": \"\"\n      }\n    }\n  ]\n}"
            }
          },
          "metadata": {},
          "execution_count": 3
        }
      ],
      "source": [
        "census = pd.read_csv('data/census.csv')\n",
        "census = census.sample(frac=0.5, random_state=1)\n",
        "census.head()"
      ]
    },
    {
      "cell_type": "markdown",
      "source": [
        "## 1.B - Label Distribution\n",
        "\n",
        "Create a label array and use `value_counts()` to display the distribution of the label values as proportions."
      ],
      "metadata": {
        "id": "l57rT-EiUQew"
      },
      "id": "l57rT-EiUQew"
    },
    {
      "cell_type": "code",
      "execution_count": 4,
      "id": "3cbe555d-633f-46be-8a95-db68bdf8ade2",
      "metadata": {
        "id": "3cbe555d-633f-46be-8a95-db68bdf8ade2",
        "colab": {
          "base_uri": "https://localhost:8080/",
          "height": 178
        },
        "outputId": "a14f2499-5df1-457c-cb3e-c991f026ea35"
      },
      "outputs": [
        {
          "output_type": "execute_result",
          "data": {
            "text/plain": [
              "income\n",
              "<=50K    0.75688\n",
              ">50K     0.24312\n",
              "Name: proportion, dtype: float64"
            ],
            "text/html": [
              "<div>\n",
              "<style scoped>\n",
              "    .dataframe tbody tr th:only-of-type {\n",
              "        vertical-align: middle;\n",
              "    }\n",
              "\n",
              "    .dataframe tbody tr th {\n",
              "        vertical-align: top;\n",
              "    }\n",
              "\n",
              "    .dataframe thead th {\n",
              "        text-align: right;\n",
              "    }\n",
              "</style>\n",
              "<table border=\"1\" class=\"dataframe\">\n",
              "  <thead>\n",
              "    <tr style=\"text-align: right;\">\n",
              "      <th></th>\n",
              "      <th>proportion</th>\n",
              "    </tr>\n",
              "    <tr>\n",
              "      <th>income</th>\n",
              "      <th></th>\n",
              "    </tr>\n",
              "  </thead>\n",
              "  <tbody>\n",
              "    <tr>\n",
              "      <th>&lt;=50K</th>\n",
              "      <td>0.75688</td>\n",
              "    </tr>\n",
              "    <tr>\n",
              "      <th>&gt;50K</th>\n",
              "      <td>0.24312</td>\n",
              "    </tr>\n",
              "  </tbody>\n",
              "</table>\n",
              "</div><br><label><b>dtype:</b> float64</label>"
            ]
          },
          "metadata": {},
          "execution_count": 4
        }
      ],
      "source": [
        "y = census.income.values\n",
        "census.income.value_counts(normalize=True)"
      ]
    },
    {
      "cell_type": "markdown",
      "source": [
        "## 1.C - Grouping Features\n",
        "\n",
        "Create lists containing the names of the numerical and categorical features. Print these lists along with messages indicating which features are numerical and which are categorical."
      ],
      "metadata": {
        "id": "o_C9X4NVUf64"
      },
      "id": "o_C9X4NVUf64"
    },
    {
      "cell_type": "code",
      "execution_count": 5,
      "id": "e4befd54-88e0-4e37-8921-18794125c872",
      "metadata": {
        "id": "e4befd54-88e0-4e37-8921-18794125c872",
        "colab": {
          "base_uri": "https://localhost:8080/"
        },
        "outputId": "0e92d2b7-1cad-4a85-a999-b06ec97843ae"
      },
      "outputs": [
        {
          "output_type": "stream",
          "name": "stdout",
          "text": [
            "Numerical Features:\n",
            "['age' 'fnlwgt' 'educ_num' 'capital_gain' 'capital_loss' 'hrs_per_week']\n",
            "\n",
            "Categorical Features:\n",
            "['workclass' 'education' 'marital_status' 'occupation' 'relationship'\n",
            " 'race' 'sex' 'native_country']\n"
          ]
        }
      ],
      "source": [
        "num_features = census.columns.values[[0,2,4,10,11,12]]\n",
        "cat_features = census.columns.values[[1,3,5,6,7,8,9,13]]\n",
        "\n",
        "print('Numerical Features:')\n",
        "print(num_features)\n",
        "print()\n",
        "print('Categorical Features:')\n",
        "print(cat_features)"
      ]
    },
    {
      "cell_type": "markdown",
      "source": [
        "## 1.D - Counting Levels\n",
        "\n",
        "Determine the number of levels for each categorical feature. Display the results my printing a message of the following form for each feature:\n",
        "\n",
        "    [feature] has [num_levels] levels.\n",
        "\n",
        "The bracketed expressions should be replaced with the appropriate values."
      ],
      "metadata": {
        "id": "0rfebTT1UjQ-"
      },
      "id": "0rfebTT1UjQ-"
    },
    {
      "cell_type": "code",
      "execution_count": 6,
      "id": "8d1eaa53-2b0e-42fb-8496-1aa7aa6e7d52",
      "metadata": {
        "id": "8d1eaa53-2b0e-42fb-8496-1aa7aa6e7d52",
        "colab": {
          "base_uri": "https://localhost:8080/"
        },
        "outputId": "9a0809a5-0762-4069-8b99-cfe58d27df8c"
      },
      "outputs": [
        {
          "output_type": "stream",
          "name": "stdout",
          "text": [
            "workclass has 9 levels.\n",
            "education has 16 levels.\n",
            "marital_status has 7 levels.\n",
            "occupation has 15 levels.\n",
            "relationship has 6 levels.\n",
            "race has 5 levels.\n",
            "sex has 2 levels.\n",
            "native_country has 42 levels.\n"
          ]
        }
      ],
      "source": [
        "for c in cat_features:\n",
        "    print(f'{c} has {len(census[c].unique())} levels.')"
      ]
    },
    {
      "cell_type": "markdown",
      "source": [
        "## 1.E - Data Preprocessing\n",
        "\n",
        "Create instances of `StandardScaler` and `OneHotEncoder` and then use them to create an instance of `ColumnTransformer`, applying each preprocessing object to the appropriate columns. Then fit and apply your `ColumnTransformer` to the DataFrame containing your training data. Store the resulting feature array in a variable.\n",
        "\n",
        "Print the shape of the final feature array.\n",
        "\n",
        "**Use the preprocessed features when training, evaluating, or applying models in Part 2.**"
      ],
      "metadata": {
        "id": "EyBSxwOPU-40"
      },
      "id": "EyBSxwOPU-40"
    },
    {
      "cell_type": "code",
      "execution_count": 7,
      "id": "65a7697d-10ab-4b9b-847d-e5606e846468",
      "metadata": {
        "id": "65a7697d-10ab-4b9b-847d-e5606e846468",
        "colab": {
          "base_uri": "https://localhost:8080/"
        },
        "outputId": "e0f93753-cf4a-4232-fe7a-6c6cb16ae6a7"
      },
      "outputs": [
        {
          "output_type": "execute_result",
          "data": {
            "text/plain": [
              "(16280, 108)"
            ]
          },
          "metadata": {},
          "execution_count": 7
        }
      ],
      "source": [
        "scaler = StandardScaler()\n",
        "encoder = OneHotEncoder()\n",
        "\n",
        "preprocessor = ColumnTransformer([\n",
        "    ('scaler', scaler, num_features),\n",
        "    ('encoder', encoder, cat_features)\n",
        "])\n",
        "\n",
        "X = preprocessor.fit_transform(census)\n",
        "X.shape"
      ]
    },
    {
      "cell_type": "markdown",
      "id": "b8c2a71d-7533-4fc4-9eff-147a26a42cd3",
      "metadata": {
        "id": "b8c2a71d-7533-4fc4-9eff-147a26a42cd3"
      },
      "source": [
        "# Part 2: Selecting and Applying a Model (Census Data)\n",
        "\n",
        "We will now perform hyperparameter tuning and model selection. After identifying the preferred model, we will analyze its preformance."
      ]
    },
    {
      "cell_type": "markdown",
      "source": [
        "## 2.A - Cross Validation for Logistic Regression\n",
        "\n",
        "Create an instance of `LogisticRegression`. Use `cross_value_score()` to estimate the model's out-of-sample\n",
        "performance on the dataset. Use 5-fold CV with accuracy as the metric and set `n_jobs=-1`. Print the scores for each fold, as well as mean score. Round all scores to 3 decimal places."
      ],
      "metadata": {
        "id": "us0nPko1VnVy"
      },
      "id": "us0nPko1VnVy"
    },
    {
      "cell_type": "code",
      "execution_count": 8,
      "id": "0bfb9251-6063-4ce8-8c07-49e2fc91cb2c",
      "metadata": {
        "id": "0bfb9251-6063-4ce8-8c07-49e2fc91cb2c",
        "colab": {
          "base_uri": "https://localhost:8080/"
        },
        "outputId": "00e68e5e-eef7-49db-f2e8-2b5f035ca97e"
      },
      "outputs": [
        {
          "output_type": "stream",
          "name": "stdout",
          "text": [
            "Scores: [0.864 0.852 0.859 0.857 0.861 0.857 0.856 0.848 0.851 0.864]\n",
            "CV Score: 0.857\n"
          ]
        }
      ],
      "source": [
        "lr_mod = LogisticRegression()\n",
        "\n",
        "scores = cross_val_score(lr_mod, X, y, cv=10, scoring='accuracy', n_jobs=-1)\n",
        "print('Scores:', scores.round(3))\n",
        "print('CV Score:', scores.mean().round(3))"
      ]
    },
    {
      "cell_type": "markdown",
      "source": [
        "## 2.B - Hyperparameter Tuning for KNN\n",
        "\n",
        "Create an instance of `KNeighborsClassifier` specifying no parameter values.  Use `GridSearchCV` to perform hyperparameter tuning with 5-fold cross validation for your KNN model. Score your models according to accuracy and set `n_jobs=-1`. Tune over the `n_neighbors` parameter, considering the following hyperparameter values: **16, 18, 20, 22, 24**\n",
        "\n",
        "Print the best hyperparameter value found by grid search, as well as the best score found. Add text to indicate the meaning of these values in the output."
      ],
      "metadata": {
        "id": "o3pIBb_3VyVq"
      },
      "id": "o3pIBb_3VyVq"
    },
    {
      "cell_type": "code",
      "source": [
        "knn_mod = KNeighborsClassifier()\n",
        "\n",
        "knn_params = {\n",
        "    'n_neighbors' : range(16, 26, 2)\n",
        "}\n",
        "\n",
        "knn_grid = GridSearchCV(knn_mod, knn_params, cv=10, n_jobs=-1)\n",
        "knn_grid.fit(X, y)\n",
        "\n",
        "print('Best Parameters:', knn_grid.best_params_)\n",
        "print('Best CV Score:  ', knn_grid.best_score_)"
      ],
      "metadata": {
        "id": "VwVeyyvTuO5a",
        "colab": {
          "base_uri": "https://localhost:8080/"
        },
        "outputId": "0b319c3a-6341-4e27-b97c-4381d97f936a"
      },
      "id": "VwVeyyvTuO5a",
      "execution_count": 9,
      "outputs": [
        {
          "output_type": "stream",
          "name": "stdout",
          "text": [
            "Best Parameters: {'n_neighbors': 18}\n",
            "Best CV Score:   0.8458845208845208\n"
          ]
        }
      ]
    },
    {
      "cell_type": "markdown",
      "source": [
        "## 2.C - Visualizing Results\n",
        "\n",
        "Replace the blank in line 1 of this cell with the name of your parameter dictionary from 2.B. Replace the blank in line 2 with the name of your `GridSearchCV` object from 2.B. Then execute this cell to see how the CV scores varied with respect to the hyperparameter values. Use this graph to determine if you should re-run the previous cell with a different range of hyperparameter values."
      ],
      "metadata": {
        "id": "pxMNqlP6WUzq"
      },
      "id": "pxMNqlP6WUzq"
    },
    {
      "cell_type": "code",
      "execution_count": 10,
      "id": "1ad6b85d-fe64-46c1-8302-873c3f75a20e",
      "metadata": {
        "id": "1ad6b85d-fe64-46c1-8302-873c3f75a20e",
        "colab": {
          "base_uri": "https://localhost:8080/",
          "height": 234
        },
        "outputId": "00c0bc0a-9bff-4bfb-c6d9-ab07c8a5f5d5"
      },
      "outputs": [
        {
          "output_type": "display_data",
          "data": {
            "text/plain": [
              "<Figure size 400x200 with 1 Axes>"
            ],
            "image/png": "[encoded data removed]"
          },
          "metadata": {}
        }
      ],
      "source": [
        "n_neighbors = knn_params['n_neighbors']\n",
        "scores = knn_grid.cv_results_['mean_test_score']\n",
        "\n",
        "plt.figure(figsize=[4,2])\n",
        "plt.plot(n_neighbors, scores)\n",
        "plt.xlabel('n_neighbors')\n",
        "plt.ylabel('CV Score')\n",
        "plt.grid()\n",
        "plt.show()"
      ]
    },
    {
      "cell_type": "markdown",
      "source": [
        "## 2.D - Hyperparameter Tuning for Decision Trees\n",
        "\n",
        "Create an instance of `DecisionTreeClassifer` with `random_state=1` but specifying no other parameter values.  Use `GridSearchCV` to perform hyperparameter tuning with 5-fold cross validation for your decision tree model. Score your models according to accuracy and set `n_jobs=-1`. Tune over the `max_depth` parameter, considering the following hyperparameter values: **4, 8, 12, 16, 20, 24**.\n",
        "\n",
        "Print the best hyperparameter value found by grid search, as well as the best score found. Print additional text to indicate the meaning of these values in the output."
      ],
      "metadata": {
        "id": "cDpHb3p8W3ok"
      },
      "id": "cDpHb3p8W3ok"
    },
    {
      "cell_type": "code",
      "execution_count": 11,
      "id": "4cc65641-7569-4baa-ab57-b0f77fac3b1e",
      "metadata": {
        "id": "4cc65641-7569-4baa-ab57-b0f77fac3b1e",
        "colab": {
          "base_uri": "https://localhost:8080/"
        },
        "outputId": "7eaabaf0-5065-47c0-8b53-9fc797a427ee"
      },
      "outputs": [
        {
          "output_type": "stream",
          "name": "stdout",
          "text": [
            "Best Parameters: {'max_depth': 8}\n",
            "Best CV Score:   0.8579852579852579\n"
          ]
        }
      ],
      "source": [
        "tree_mod = DecisionTreeClassifier(random_state=1)\n",
        "\n",
        "tree_params = {\n",
        "    'max_depth' : range(4, 28, 4)\n",
        "}\n",
        "\n",
        "tree_grid = GridSearchCV(tree_mod, tree_params, cv=10, n_jobs=-1)\n",
        "tree_grid.fit(X, y)\n",
        "\n",
        "print('Best Parameters:', tree_grid.best_params_)\n",
        "print('Best CV Score:  ', tree_grid.best_score_)"
      ]
    },
    {
      "cell_type": "markdown",
      "source": [
        "## 2.E - Visualizing Results\n",
        "\n",
        "Replace the blank in line 1 of this cell with the name of your parameter dictionary from 2.D. Replace the blank in line 2 with the name of your `GridSearchCV` object from 2.D. Then execute this cell to see how the CV scores varied with respect to the hyperparameter values. Use this graph to determine if you should re-run the previous cell with a different range of hyperparameter values."
      ],
      "metadata": {
        "id": "0fwtU3FtYHVp"
      },
      "id": "0fwtU3FtYHVp"
    },
    {
      "cell_type": "code",
      "execution_count": 12,
      "id": "d2df09c0-0eee-4620-a2bf-5b1f8a3c589a",
      "metadata": {
        "id": "d2df09c0-0eee-4620-a2bf-5b1f8a3c589a",
        "colab": {
          "base_uri": "https://localhost:8080/",
          "height": 234
        },
        "outputId": "c37172f0-1b00-4271-f4fb-6b3c242e5220"
      },
      "outputs": [
        {
          "output_type": "display_data",
          "data": {
            "text/plain": [
              "<Figure size 400x200 with 1 Axes>"
            ],
            "image/png": "[encoded data removed]"
          },
          "metadata": {}
        }
      ],
      "source": [
        "# 2.E\n",
        "max_depth = tree_params['max_depth']\n",
        "scores = tree_grid.cv_results_['mean_test_score']\n",
        "\n",
        "plt.figure(figsize=[4,2])\n",
        "plt.plot(max_depth, scores)\n",
        "plt.xlabel('max_depth')\n",
        "plt.ylabel('CV Score')\n",
        "plt.grid()\n",
        "plt.show()"
      ]
    },
    {
      "cell_type": "markdown",
      "source": [
        "## 2.F - Hyperparameter Tuning for Random Forests\n",
        "\n",
        "Create an instance of `RandomForestClassifer` with `random_state=1` and `n_estimators=100` but specifying no other parameter values.  Use `GridSearchCV` to perform hyperparameter tuning with 5-fold cross validation for your random forest model. Score your models according to accuracy and set `n_jobs=-1`. Tune over the `max_depth` parameter, considering the following hyperparameter values: **12, 16, 20, 24, 28**.\n",
        "\n",
        "Print the best hyperparameter value found by grid search, as well as the best score found. Print additional text to indicate the meaning of these values in the output.\n"
      ],
      "metadata": {
        "id": "SfDLmyBUYWc1"
      },
      "id": "SfDLmyBUYWc1"
    },
    {
      "cell_type": "code",
      "execution_count": 13,
      "id": "eb9081a8-d9ae-495c-81f4-1238e77fa928",
      "metadata": {
        "id": "eb9081a8-d9ae-495c-81f4-1238e77fa928",
        "colab": {
          "base_uri": "https://localhost:8080/"
        },
        "outputId": "bc3c349c-7867-4053-f361-2ded333cefbc"
      },
      "outputs": [
        {
          "output_type": "stream",
          "name": "stdout",
          "text": [
            "Best Parameters: {'max_depth': 20}\n",
            "Best CV Score:   0.8648034398034398\n"
          ]
        }
      ],
      "source": [
        "rf_mod = RandomForestClassifier(random_state=1, n_estimators=100)\n",
        "\n",
        "rf_params = {\n",
        "    'max_depth' : range(12, 24, 4)\n",
        "}\n",
        "\n",
        "rf_grid = GridSearchCV(rf_mod, rf_params, cv=5, n_jobs=-1)\n",
        "rf_grid.fit(X, y)\n",
        "\n",
        "print('Best Parameters:', rf_grid.best_params_)\n",
        "print('Best CV Score:  ', rf_grid.best_score_)"
      ]
    },
    {
      "cell_type": "markdown",
      "source": [
        "## 2.G - Visualizing Results\n",
        "\n",
        "Replace the blank in line 1 of this cell with the name of your parameter dictionary from 2.F. Replace the blank in line 2 with the name of your `GridSearchCV` object from 2.F. Then execute this cell to see how the CV scores varied with respect to the hyperparameter values."
      ],
      "metadata": {
        "id": "98-_N6orYtyO"
      },
      "id": "98-_N6orYtyO"
    },
    {
      "cell_type": "code",
      "execution_count": 14,
      "id": "85c3aeaa-8360-480d-b827-c840c5917895",
      "metadata": {
        "id": "85c3aeaa-8360-480d-b827-c840c5917895",
        "colab": {
          "base_uri": "https://localhost:8080/",
          "height": 234
        },
        "outputId": "babf6dd6-c90f-426d-b3c4-4efc995ac565"
      },
      "outputs": [
        {
          "output_type": "display_data",
          "data": {
            "text/plain": [
              "<Figure size 400x200 with 1 Axes>"
            ],
            "image/png": "[encoded data removed]"
          },
          "metadata": {}
        }
      ],
      "source": [
        "max_depth = rf_params['max_depth']\n",
        "scores = rf_grid.cv_results_['mean_test_score']\n",
        "\n",
        "plt.figure(figsize=[4,2])\n",
        "plt.plot(max_depth, scores)\n",
        "plt.xlabel('max_depth')\n",
        "plt.ylabel('CV Score')\n",
        "plt.grid()\n",
        "plt.show()"
      ]
    },
    {
      "cell_type": "markdown",
      "source": [
        "## 2.H - Classification Report\n",
        "\n",
        "Identify which of the models from above gave you the best results. Then use that model with `cross_val_predict()` with `cv=5` to generate out-of-sample predictions for the dataset. Use these predictions with `classification_report()` to generate a classification report."
      ],
      "metadata": {
        "id": "pMXZSAL9ZH96"
      },
      "id": "pMXZSAL9ZH96"
    },
    {
      "cell_type": "code",
      "execution_count": 15,
      "id": "07304d8e-0158-416e-8e32-a48f717bdb9d",
      "metadata": {
        "id": "07304d8e-0158-416e-8e32-a48f717bdb9d",
        "colab": {
          "base_uri": "https://localhost:8080/"
        },
        "outputId": "669fdc7c-8a18-41dd-e63f-e2c77362284e"
      },
      "outputs": [
        {
          "output_type": "stream",
          "name": "stdout",
          "text": [
            "              precision    recall  f1-score   support\n",
            "\n",
            "       <=50K       0.88      0.95      0.91     12322\n",
            "        >50K       0.79      0.61      0.69      3958\n",
            "\n",
            "    accuracy                           0.86     16280\n",
            "   macro avg       0.83      0.78      0.80     16280\n",
            "weighted avg       0.86      0.86      0.86     16280\n",
            "\n"
          ]
        }
      ],
      "source": [
        "final_model = rf_grid.best_estimator_\n",
        "\n",
        "cv_pred1 = cross_val_predict(final_model, X, y, cv=5, n_jobs=-1)\n",
        "\n",
        "print(classification_report(y, cv_pred1))"
      ]
    },
    {
      "cell_type": "markdown",
      "source": [
        "## 2.I - Confusion Matrix\n",
        "\n",
        "Use your out-of-sample predictions with `confusion_matrix()` to generate a confusion matrix. Display the confusion matrix as a DataFrame, with the rows and columns labeled according to the actual class names."
      ],
      "metadata": {
        "id": "wHXUzjvtZR82"
      },
      "id": "wHXUzjvtZR82"
    },
    {
      "cell_type": "code",
      "execution_count": 16,
      "id": "eec17f51-b824-4eb9-997d-cce1010e6731",
      "metadata": {
        "id": "eec17f51-b824-4eb9-997d-cce1010e6731",
        "colab": {
          "base_uri": "https://localhost:8080/",
          "height": 112
        },
        "outputId": "24c3950b-6478-4639-c619-14a1a56aebb5"
      },
      "outputs": [
        {
          "output_type": "execute_result",
          "data": {
            "text/plain": [
              "       0     1\n",
              "0  11664   658\n",
              "1   1543  2415"
            ],
            "text/html": [
              "\n",
              "  <div id=\"df-f92a220a-31cb-4764-8407-a1fec705cb90\" class=\"colab-df-container\">\n",
              "    <div>\n",
              "<style scoped>\n",
              "    .dataframe tbody tr th:only-of-type {\n",
              "        vertical-align: middle;\n",
              "    }\n",
              "\n",
              "    .dataframe tbody tr th {\n",
              "        vertical-align: top;\n",
              "    }\n",
              "\n",
              "    .dataframe thead th {\n",
              "        text-align: right;\n",
              "    }\n",
              "</style>\n",
              "<table border=\"1\" class=\"dataframe\">\n",
              "  <thead>\n",
              "    <tr style=\"text-align: right;\">\n",
              "      <th></th>\n",
              "      <th>0</th>\n",
              "      <th>1</th>\n",
              "    </tr>\n",
              "  </thead>\n",
              "  <tbody>\n",
              "    <tr>\n",
              "      <th>0</th>\n",
              "      <td>11664</td>\n",
              "      <td>658</td>\n",
              "    </tr>\n",
              "    <tr>\n",
              "      <th>1</th>\n",
              "      <td>1543</td>\n",
              "      <td>2415</td>\n",
              "    </tr>\n",
              "  </tbody>\n",
              "</table>\n",
              "</div>\n",
              "    <div class=\"colab-df-buttons\">\n",
              "\n",
              "  <div class=\"colab-df-container\">\n",
              "    <button class=\"colab-df-convert\" onclick=\"convertToInteractive('df-f92a220a-31cb-4764-8407-a1fec705cb90')\"\n",
              "            title=\"Convert this dataframe to an interactive table.\"\n",
              "            style=\"display:none;\">\n",
              "\n",
              "  <svg xmlns=\"http://www.w3.org/2000/svg\" height=\"24px\" viewBox=\"0 -960 960 960\">\n",
              "    <path d=\"M120-120v-720h720v720H120Zm60-500h600v-160H180v160Zm220 220h160v-160H400v160Zm0 220h160v-160H400v160ZM180-400h160v-160H180v160Zm440 0h160v-160H620v160ZM180-180h160v-160H180v160Zm440 0h160v-160H620v160Z\"/>\n",
              "  </svg>\n",
              "    </button>\n",
              "\n",
              "  <style>\n",
              "    .colab-df-container {\n",
              "      display:flex;\n",
              "      gap: 12px;\n",
              "    }\n",
              "\n",
              "    .colab-df-convert {\n",
              "      background-color: #E8F0FE;\n",
              "      border: none;\n",
              "      border-radius: 50%;\n",
              "      cursor: pointer;\n",
              "      display: none;\n",
              "      fill: #1967D2;\n",
              "      height: 32px;\n",
              "      padding: 0 0 0 0;\n",
              "      width: 32px;\n",
              "    }\n",
              "\n",
              "    .colab-df-convert:hover {\n",
              "      background-color: #E2EBFA;\n",
              "      box-shadow: 0px 1px 2px rgba(60, 64, 67, 0.3), 0px 1px 3px 1px rgba(60, 64, 67, 0.15);\n",
              "      fill: #174EA6;\n",
              "    }\n",
              "\n",
              "    .colab-df-buttons div {\n",
              "      margin-bottom: 4px;\n",
              "    }\n",
              "\n",
              "    [theme=dark] .colab-df-convert {\n",
              "      background-color: #3B4455;\n",
              "      fill: #D2E3FC;\n",
              "    }\n",
              "\n",
              "    [theme=dark] .colab-df-convert:hover {\n",
              "      background-color: #434B5C;\n",
              "      box-shadow: 0px 1px 3px 1px rgba(0, 0, 0, 0.15);\n",
              "      filter: drop-shadow(0px 1px 2px rgba(0, 0, 0, 0.3));\n",
              "      fill: #FFFFFF;\n",
              "    }\n",
              "  </style>\n",
              "\n",
              "    <script>\n",
              "      const buttonEl =\n",
              "        document.querySelector('#df-f92a220a-31cb-4764-8407-a1fec705cb90 button.colab-df-convert');\n",
              "      buttonEl.style.display =\n",
              "        google.colab.kernel.accessAllowed ? 'block' : 'none';\n",
              "\n",
              "      async function convertToInteractive(key) {\n",
              "        const element = document.querySelector('#df-f92a220a-31cb-4764-8407-a1fec705cb90');\n",
              "        const dataTable =\n",
              "          await google.colab.kernel.invokeFunction('convertToInteractive',\n",
              "                                                    [key], {});\n",
              "        if (!dataTable) return;\n",
              "\n",
              "        const docLinkHtml = 'Like what you see? Visit the ' +\n",
              "          '<a target=\"_blank\" href=https://colab.research.google.com/notebooks/data_table.ipynb>data table notebook</a>'\n",
              "          + ' to learn more about interactive tables.';\n",
              "        element.innerHTML = '';\n",
              "        dataTable['output_type'] = 'display_data';\n",
              "        await google.colab.output.renderOutput(dataTable, element);\n",
              "        const docLink = document.createElement('div');\n",
              "        docLink.innerHTML = docLinkHtml;\n",
              "        element.appendChild(docLink);\n",
              "      }\n",
              "    </script>\n",
              "  </div>\n",
              "\n",
              "\n",
              "<div id=\"df-fef02e0f-2c10-4290-90f6-b757f73a60a2\">\n",
              "  <button class=\"colab-df-quickchart\" onclick=\"quickchart('df-fef02e0f-2c10-4290-90f6-b757f73a60a2')\"\n",
              "            title=\"Suggest charts\"\n",
              "            style=\"display:none;\">\n",
              "\n",
              "<svg xmlns=\"http://www.w3.org/2000/svg\" height=\"24px\"viewBox=\"0 0 24 24\"\n",
              "     width=\"24px\">\n",
              "    <g>\n",
              "        <path d=\"M19 3H5c-1.1 0-2 .9-2 2v14c0 1.1.9 2 2 2h14c1.1 0 2-.9 2-2V5c0-1.1-.9-2-2-2zM9 17H7v-7h2v7zm4 0h-2V7h2v10zm4 0h-2v-4h2v4z\"/>\n",
              "    </g>\n",
              "</svg>\n",
              "  </button>\n",
              "\n",
              "<style>\n",
              "  .colab-df-quickchart {\n",
              "      --bg-color: #E8F0FE;\n",
              "      --fill-color: #1967D2;\n",
              "      --hover-bg-color: #E2EBFA;\n",
              "      --hover-fill-color: #174EA6;\n",
              "      --disabled-fill-color: #AAA;\n",
              "      --disabled-bg-color: #DDD;\n",
              "  }\n",
              "\n",
              "  [theme=dark] .colab-df-quickchart {\n",
              "      --bg-color: #3B4455;\n",
              "      --fill-color: #D2E3FC;\n",
              "      --hover-bg-color: #434B5C;\n",
              "      --hover-fill-color: #FFFFFF;\n",
              "      --disabled-bg-color: #3B4455;\n",
              "      --disabled-fill-color: #666;\n",
              "  }\n",
              "\n",
              "  .colab-df-quickchart {\n",
              "    background-color: var(--bg-color);\n",
              "    border: none;\n",
              "    border-radius: 50%;\n",
              "    cursor: pointer;\n",
              "    display: none;\n",
              "    fill: var(--fill-color);\n",
              "    height: 32px;\n",
              "    padding: 0;\n",
              "    width: 32px;\n",
              "  }\n",
              "\n",
              "  .colab-df-quickchart:hover {\n",
              "    background-color: var(--hover-bg-color);\n",
              "    box-shadow: 0 1px 2px rgba(60, 64, 67, 0.3), 0 1px 3px 1px rgba(60, 64, 67, 0.15);\n",
              "    fill: var(--button-hover-fill-color);\n",
              "  }\n",
              "\n",
              "  .colab-df-quickchart-complete:disabled,\n",
              "  .colab-df-quickchart-complete:disabled:hover {\n",
              "    background-color: var(--disabled-bg-color);\n",
              "    fill: var(--disabled-fill-color);\n",
              "    box-shadow: none;\n",
              "  }\n",
              "\n",
              "  .colab-df-spinner {\n",
              "    border: 2px solid var(--fill-color);\n",
              "    border-color: transparent;\n",
              "    border-bottom-color: var(--fill-color);\n",
              "    animation:\n",
              "      spin 1s steps(1) infinite;\n",
              "  }\n",
              "\n",
              "  @keyframes spin {\n",
              "    0% {\n",
              "      border-color: transparent;\n",
              "      border-bottom-color: var(--fill-color);\n",
              "      border-left-color: var(--fill-color);\n",
              "    }\n",
              "    20% {\n",
              "      border-color: transparent;\n",
              "      border-left-color: var(--fill-color);\n",
              "      border-top-color: var(--fill-color);\n",
              "    }\n",
              "    30% {\n",
              "      border-color: transparent;\n",
              "      border-left-color: var(--fill-color);\n",
              "      border-top-color: var(--fill-color);\n",
              "      border-right-color: var(--fill-color);\n",
              "    }\n",
              "    40% {\n",
              "      border-color: transparent;\n",
              "      border-right-color: var(--fill-color);\n",
              "      border-top-color: var(--fill-color);\n",
              "    }\n",
              "    60% {\n",
              "      border-color: transparent;\n",
              "      border-right-color: var(--fill-color);\n",
              "    }\n",
              "    80% {\n",
              "      border-color: transparent;\n",
              "      border-right-color: var(--fill-color);\n",
              "      border-bottom-color: var(--fill-color);\n",
              "    }\n",
              "    90% {\n",
              "      border-color: transparent;\n",
              "      border-bottom-color: var(--fill-color);\n",
              "    }\n",
              "  }\n",
              "</style>\n",
              "\n",
              "  <script>\n",
              "    async function quickchart(key) {\n",
              "      const quickchartButtonEl =\n",
              "        document.querySelector('#' + key + ' button');\n",
              "      quickchartButtonEl.disabled = true;  // To prevent multiple clicks.\n",
              "      quickchartButtonEl.classList.add('colab-df-spinner');\n",
              "      try {\n",
              "        const charts = await google.colab.kernel.invokeFunction(\n",
              "            'suggestCharts', [key], {});\n",
              "      } catch (error) {\n",
              "        console.error('Error during call to suggestCharts:', error);\n",
              "      }\n",
              "      quickchartButtonEl.classList.remove('colab-df-spinner');\n",
              "      quickchartButtonEl.classList.add('colab-df-quickchart-complete');\n",
              "    }\n",
              "    (() => {\n",
              "      let quickchartButtonEl =\n",
              "        document.querySelector('#df-fef02e0f-2c10-4290-90f6-b757f73a60a2 button');\n",
              "      quickchartButtonEl.style.display =\n",
              "        google.colab.kernel.accessAllowed ? 'block' : 'none';\n",
              "    })();\n",
              "  </script>\n",
              "</div>\n",
              "\n",
              "    </div>\n",
              "  </div>\n"
            ],
            "application/vnd.google.colaboratory.intrinsic+json": {
              "type": "dataframe",
              "summary": "{\n  \"name\": \"pd\",\n  \"rows\": 2,\n  \"fields\": [\n    {\n      \"column\": 0,\n      \"properties\": {\n        \"dtype\": \"number\",\n        \"std\": 7156,\n        \"min\": 1543,\n        \"max\": 11664,\n        \"num_unique_values\": 2,\n        \"samples\": [\n          1543,\n          11664\n        ],\n        \"semantic_type\": \"\",\n        \"description\": \"\"\n      }\n    },\n    {\n      \"column\": 1,\n      \"properties\": {\n        \"dtype\": \"number\",\n        \"std\": 1242,\n        \"min\": 658,\n        \"max\": 2415,\n        \"num_unique_values\": 2,\n        \"samples\": [\n          2415,\n          658\n        ],\n        \"semantic_type\": \"\",\n        \"description\": \"\"\n      }\n    }\n  ]\n}"
            }
          },
          "metadata": {},
          "execution_count": 16
        }
      ],
      "source": [
        "cm1 = confusion_matrix(y, cv_pred1)\n",
        "pd.DataFrame(cm1)"
      ]
    },
    {
      "cell_type": "markdown",
      "id": "38e2fcf5-fa3e-41a9-83a8-ffc4b65c11b1",
      "metadata": {
        "id": "38e2fcf5-fa3e-41a9-83a8-ffc4b65c11b1"
      },
      "source": [
        "# Part 3: Data Preparation (Forest Cover Data)\n",
        "\n",
        "\n",
        "In Parts 3 and 4, you will be working with the \"Forest Cover\" dataset. In Part 3, you will prepare the data and in Part 4, you will select, train, and apply a model.\n",
        "\n",
        "Your goal will be to create a model to predict the forest cover type for patches of land in Colorado wilderness areas based on various cartographic information. You can find more information about the dataset, including a description of the features here: [Forest Cover Type Prediction](https://www.kaggle.com/c/forest-cover-type-prediction).\n",
        "\n",
        "Note that the label values are stored in the `Cover_Type` column and have been integer encoded. All other columns represent features. The `Wilderness_Area` and `Soil_Type` columns represent categorical features. The  `Soil_Type` has been integer encoded, but should still be considered to be categorical. All other columns represent numerical features.\n"
      ]
    },
    {
      "cell_type": "markdown",
      "source": [
        "## 3.A - Load the Data\n",
        "\n",
        "Load the data from the file `data/forest_cover.csv` into a DataFrame. Use the `sample()` method to shuffle the data, setting `random_state=1`. Display the head of the DataFrame."
      ],
      "metadata": {
        "id": "Fb9pdJP8UIWr"
      },
      "id": "Fb9pdJP8UIWr"
    },
    {
      "cell_type": "code",
      "execution_count": 17,
      "id": "b960d81f-020d-42ab-854f-32c1e0a52508",
      "metadata": {
        "id": "b960d81f-020d-42ab-854f-32c1e0a52508",
        "colab": {
          "base_uri": "https://localhost:8080/",
          "height": 226
        },
        "outputId": "fbd3ae53-c64d-403c-8a2c-af7306a1cee2"
      },
      "outputs": [
        {
          "output_type": "execute_result",
          "data": {
            "text/plain": [
              "       Elevation  Aspect  Slope  Horizontal_Distance_To_Hydrology  \\\n",
              "5765        2489     333     18                               124   \n",
              "11340       2696       4     13                                30   \n",
              "9270        3413     140     17                               134   \n",
              "5710        2874     116     18                               153   \n",
              "1070        3001      57     18                               180   \n",
              "\n",
              "       Vertical_Distance_To_Hydrology  Horizontal_Distance_To_Roadways  \\\n",
              "5765                               39                              458   \n",
              "11340                              10                             2800   \n",
              "9270                                6                             4271   \n",
              "5710                               17                             2379   \n",
              "1070                               28                             4673   \n",
              "\n",
              "       Hillshade_9am  Hillshade_Noon  Hillshade_3pm  \\\n",
              "5765             176             214            176   \n",
              "11340            202             214            148   \n",
              "9270             243             233            113   \n",
              "5710             248             220             94   \n",
              "1070             229             200             97   \n",
              "\n",
              "       Horizontal_Distance_To_Fire_Points  Wilderness_Area  Soil_Type  \\\n",
              "5765                                 1409  Cache la Poudre         10   \n",
              "11340                                6524            Rawah         29   \n",
              "9270                                 4272    Comanche Peak         23   \n",
              "5710                                  564    Comanche Peak         13   \n",
              "1070                                 1864            Rawah         29   \n",
              "\n",
              "       Cover_Type  \n",
              "5765            6  \n",
              "11340           1  \n",
              "9270            7  \n",
              "5710            5  \n",
              "1070            1  "
            ],
            "text/html": [
              "\n",
              "  <div id=\"df-f7f9750b-7809-4750-aa39-f325fcd2e41c\" class=\"colab-df-container\">\n",
              "    <div>\n",
              "<style scoped>\n",
              "    .dataframe tbody tr th:only-of-type {\n",
              "        vertical-align: middle;\n",
              "    }\n",
              "\n",
              "    .dataframe tbody tr th {\n",
              "        vertical-align: top;\n",
              "    }\n",
              "\n",
              "    .dataframe thead th {\n",
              "        text-align: right;\n",
              "    }\n",
              "</style>\n",
              "<table border=\"1\" class=\"dataframe\">\n",
              "  <thead>\n",
              "    <tr style=\"text-align: right;\">\n",
              "      <th></th>\n",
              "      <th>Elevation</th>\n",
              "      <th>Aspect</th>\n",
              "      <th>Slope</th>\n",
              "      <th>Horizontal_Distance_To_Hydrology</th>\n",
              "      <th>Vertical_Distance_To_Hydrology</th>\n",
              "      <th>Horizontal_Distance_To_Roadways</th>\n",
              "      <th>Hillshade_9am</th>\n",
              "      <th>Hillshade_Noon</th>\n",
              "      <th>Hillshade_3pm</th>\n",
              "      <th>Horizontal_Distance_To_Fire_Points</th>\n",
              "      <th>Wilderness_Area</th>\n",
              "      <th>Soil_Type</th>\n",
              "      <th>Cover_Type</th>\n",
              "    </tr>\n",
              "  </thead>\n",
              "  <tbody>\n",
              "    <tr>\n",
              "      <th>5765</th>\n",
              "      <td>2489</td>\n",
              "      <td>333</td>\n",
              "      <td>18</td>\n",
              "      <td>124</td>\n",
              "      <td>39</td>\n",
              "      <td>458</td>\n",
              "      <td>176</td>\n",
              "      <td>214</td>\n",
              "      <td>176</td>\n",
              "      <td>1409</td>\n",
              "      <td>Cache la Poudre</td>\n",
              "      <td>10</td>\n",
              "      <td>6</td>\n",
              "    </tr>\n",
              "    <tr>\n",
              "      <th>11340</th>\n",
              "      <td>2696</td>\n",
              "      <td>4</td>\n",
              "      <td>13</td>\n",
              "      <td>30</td>\n",
              "      <td>10</td>\n",
              "      <td>2800</td>\n",
              "      <td>202</td>\n",
              "      <td>214</td>\n",
              "      <td>148</td>\n",
              "      <td>6524</td>\n",
              "      <td>Rawah</td>\n",
              "      <td>29</td>\n",
              "      <td>1</td>\n",
              "    </tr>\n",
              "    <tr>\n",
              "      <th>9270</th>\n",
              "      <td>3413</td>\n",
              "      <td>140</td>\n",
              "      <td>17</td>\n",
              "      <td>134</td>\n",
              "      <td>6</td>\n",
              "      <td>4271</td>\n",
              "      <td>243</td>\n",
              "      <td>233</td>\n",
              "      <td>113</td>\n",
              "      <td>4272</td>\n",
              "      <td>Comanche Peak</td>\n",
              "      <td>23</td>\n",
              "      <td>7</td>\n",
              "    </tr>\n",
              "    <tr>\n",
              "      <th>5710</th>\n",
              "      <td>2874</td>\n",
              "      <td>116</td>\n",
              "      <td>18</td>\n",
              "      <td>153</td>\n",
              "      <td>17</td>\n",
              "      <td>2379</td>\n",
              "      <td>248</td>\n",
              "      <td>220</td>\n",
              "      <td>94</td>\n",
              "      <td>564</td>\n",
              "      <td>Comanche Peak</td>\n",
              "      <td>13</td>\n",
              "      <td>5</td>\n",
              "    </tr>\n",
              "    <tr>\n",
              "      <th>1070</th>\n",
              "      <td>3001</td>\n",
              "      <td>57</td>\n",
              "      <td>18</td>\n",
              "      <td>180</td>\n",
              "      <td>28</td>\n",
              "      <td>4673</td>\n",
              "      <td>229</td>\n",
              "      <td>200</td>\n",
              "      <td>97</td>\n",
              "      <td>1864</td>\n",
              "      <td>Rawah</td>\n",
              "      <td>29</td>\n",
              "      <td>1</td>\n",
              "    </tr>\n",
              "  </tbody>\n",
              "</table>\n",
              "</div>\n",
              "    <div class=\"colab-df-buttons\">\n",
              "\n",
              "  <div class=\"colab-df-container\">\n",
              "    <button class=\"colab-df-convert\" onclick=\"convertToInteractive('df-f7f9750b-7809-4750-aa39-f325fcd2e41c')\"\n",
              "            title=\"Convert this dataframe to an interactive table.\"\n",
              "            style=\"display:none;\">\n",
              "\n",
              "  <svg xmlns=\"http://www.w3.org/2000/svg\" height=\"24px\" viewBox=\"0 -960 960 960\">\n",
              "    <path d=\"M120-120v-720h720v720H120Zm60-500h600v-160H180v160Zm220 220h160v-160H400v160Zm0 220h160v-160H400v160ZM180-400h160v-160H180v160Zm440 0h160v-160H620v160ZM180-180h160v-160H180v160Zm440 0h160v-160H620v160Z\"/>\n",
              "  </svg>\n",
              "    </button>\n",
              "\n",
              "  <style>\n",
              "    .colab-df-container {\n",
              "      display:flex;\n",
              "      gap: 12px;\n",
              "    }\n",
              "\n",
              "    .colab-df-convert {\n",
              "      background-color: #E8F0FE;\n",
              "      border: none;\n",
              "      border-radius: 50%;\n",
              "      cursor: pointer;\n",
              "      display: none;\n",
              "      fill: #1967D2;\n",
              "      height: 32px;\n",
              "      padding: 0 0 0 0;\n",
              "      width: 32px;\n",
              "    }\n",
              "\n",
              "    .colab-df-convert:hover {\n",
              "      background-color: #E2EBFA;\n",
              "      box-shadow: 0px 1px 2px rgba(60, 64, 67, 0.3), 0px 1px 3px 1px rgba(60, 64, 67, 0.15);\n",
              "      fill: #174EA6;\n",
              "    }\n",
              "\n",
              "    .colab-df-buttons div {\n",
              "      margin-bottom: 4px;\n",
              "    }\n",
              "\n",
              "    [theme=dark] .colab-df-convert {\n",
              "      background-color: #3B4455;\n",
              "      fill: #D2E3FC;\n",
              "    }\n",
              "\n",
              "    [theme=dark] .colab-df-convert:hover {\n",
              "      background-color: #434B5C;\n",
              "      box-shadow: 0px 1px 3px 1px rgba(0, 0, 0, 0.15);\n",
              "      filter: drop-shadow(0px 1px 2px rgba(0, 0, 0, 0.3));\n",
              "      fill: #FFFFFF;\n",
              "    }\n",
              "  </style>\n",
              "\n",
              "    <script>\n",
              "      const buttonEl =\n",
              "        document.querySelector('#df-f7f9750b-7809-4750-aa39-f325fcd2e41c button.colab-df-convert');\n",
              "      buttonEl.style.display =\n",
              "        google.colab.kernel.accessAllowed ? 'block' : 'none';\n",
              "\n",
              "      async function convertToInteractive(key) {\n",
              "        const element = document.querySelector('#df-f7f9750b-7809-4750-aa39-f325fcd2e41c');\n",
              "        const dataTable =\n",
              "          await google.colab.kernel.invokeFunction('convertToInteractive',\n",
              "                                                    [key], {});\n",
              "        if (!dataTable) return;\n",
              "\n",
              "        const docLinkHtml = 'Like what you see? Visit the ' +\n",
              "          '<a target=\"_blank\" href=https://colab.research.google.com/notebooks/data_table.ipynb>data table notebook</a>'\n",
              "          + ' to learn more about interactive tables.';\n",
              "        element.innerHTML = '';\n",
              "        dataTable['output_type'] = 'display_data';\n",
              "        await google.colab.output.renderOutput(dataTable, element);\n",
              "        const docLink = document.createElement('div');\n",
              "        docLink.innerHTML = docLinkHtml;\n",
              "        element.appendChild(docLink);\n",
              "      }\n",
              "    </script>\n",
              "  </div>\n",
              "\n",
              "\n",
              "<div id=\"df-004c444e-2428-449d-960d-e38f2c4f117c\">\n",
              "  <button class=\"colab-df-quickchart\" onclick=\"quickchart('df-004c444e-2428-449d-960d-e38f2c4f117c')\"\n",
              "            title=\"Suggest charts\"\n",
              "            style=\"display:none;\">\n",
              "\n",
              "<svg xmlns=\"http://www.w3.org/2000/svg\" height=\"24px\"viewBox=\"0 0 24 24\"\n",
              "     width=\"24px\">\n",
              "    <g>\n",
              "        <path d=\"M19 3H5c-1.1 0-2 .9-2 2v14c0 1.1.9 2 2 2h14c1.1 0 2-.9 2-2V5c0-1.1-.9-2-2-2zM9 17H7v-7h2v7zm4 0h-2V7h2v10zm4 0h-2v-4h2v4z\"/>\n",
              "    </g>\n",
              "</svg>\n",
              "  </button>\n",
              "\n",
              "<style>\n",
              "  .colab-df-quickchart {\n",
              "      --bg-color: #E8F0FE;\n",
              "      --fill-color: #1967D2;\n",
              "      --hover-bg-color: #E2EBFA;\n",
              "      --hover-fill-color: #174EA6;\n",
              "      --disabled-fill-color: #AAA;\n",
              "      --disabled-bg-color: #DDD;\n",
              "  }\n",
              "\n",
              "  [theme=dark] .colab-df-quickchart {\n",
              "      --bg-color: #3B4455;\n",
              "      --fill-color: #D2E3FC;\n",
              "      --hover-bg-color: #434B5C;\n",
              "      --hover-fill-color: #FFFFFF;\n",
              "      --disabled-bg-color: #3B4455;\n",
              "      --disabled-fill-color: #666;\n",
              "  }\n",
              "\n",
              "  .colab-df-quickchart {\n",
              "    background-color: var(--bg-color);\n",
              "    border: none;\n",
              "    border-radius: 50%;\n",
              "    cursor: pointer;\n",
              "    display: none;\n",
              "    fill: var(--fill-color);\n",
              "    height: 32px;\n",
              "    padding: 0;\n",
              "    width: 32px;\n",
              "  }\n",
              "\n",
              "  .colab-df-quickchart:hover {\n",
              "    background-color: var(--hover-bg-color);\n",
              "    box-shadow: 0 1px 2px rgba(60, 64, 67, 0.3), 0 1px 3px 1px rgba(60, 64, 67, 0.15);\n",
              "    fill: var(--button-hover-fill-color);\n",
              "  }\n",
              "\n",
              "  .colab-df-quickchart-complete:disabled,\n",
              "  .colab-df-quickchart-complete:disabled:hover {\n",
              "    background-color: var(--disabled-bg-color);\n",
              "    fill: var(--disabled-fill-color);\n",
              "    box-shadow: none;\n",
              "  }\n",
              "\n",
              "  .colab-df-spinner {\n",
              "    border: 2px solid var(--fill-color);\n",
              "    border-color: transparent;\n",
              "    border-bottom-color: var(--fill-color);\n",
              "    animation:\n",
              "      spin 1s steps(1) infinite;\n",
              "  }\n",
              "\n",
              "  @keyframes spin {\n",
              "    0% {\n",
              "      border-color: transparent;\n",
              "      border-bottom-color: var(--fill-color);\n",
              "      border-left-color: var(--fill-color);\n",
              "    }\n",
              "    20% {\n",
              "      border-color: transparent;\n",
              "      border-left-color: var(--fill-color);\n",
              "      border-top-color: var(--fill-color);\n",
              "    }\n",
              "    30% {\n",
              "      border-color: transparent;\n",
              "      border-left-color: var(--fill-color);\n",
              "      border-top-color: var(--fill-color);\n",
              "      border-right-color: var(--fill-color);\n",
              "    }\n",
              "    40% {\n",
              "      border-color: transparent;\n",
              "      border-right-color: var(--fill-color);\n",
              "      border-top-color: var(--fill-color);\n",
              "    }\n",
              "    60% {\n",
              "      border-color: transparent;\n",
              "      border-right-color: var(--fill-color);\n",
              "    }\n",
              "    80% {\n",
              "      border-color: transparent;\n",
              "      border-right-color: var(--fill-color);\n",
              "      border-bottom-color: var(--fill-color);\n",
              "    }\n",
              "    90% {\n",
              "      border-color: transparent;\n",
              "      border-bottom-color: var(--fill-color);\n",
              "    }\n",
              "  }\n",
              "</style>\n",
              "\n",
              "  <script>\n",
              "    async function quickchart(key) {\n",
              "      const quickchartButtonEl =\n",
              "        document.querySelector('#' + key + ' button');\n",
              "      quickchartButtonEl.disabled = true;  // To prevent multiple clicks.\n",
              "      quickchartButtonEl.classList.add('colab-df-spinner');\n",
              "      try {\n",
              "        const charts = await google.colab.kernel.invokeFunction(\n",
              "            'suggestCharts', [key], {});\n",
              "      } catch (error) {\n",
              "        console.error('Error during call to suggestCharts:', error);\n",
              "      }\n",
              "      quickchartButtonEl.classList.remove('colab-df-spinner');\n",
              "      quickchartButtonEl.classList.add('colab-df-quickchart-complete');\n",
              "    }\n",
              "    (() => {\n",
              "      let quickchartButtonEl =\n",
              "        document.querySelector('#df-004c444e-2428-449d-960d-e38f2c4f117c button');\n",
              "      quickchartButtonEl.style.display =\n",
              "        google.colab.kernel.accessAllowed ? 'block' : 'none';\n",
              "    })();\n",
              "  </script>\n",
              "</div>\n",
              "\n",
              "    </div>\n",
              "  </div>\n"
            ],
            "application/vnd.google.colaboratory.intrinsic+json": {
              "type": "dataframe",
              "variable_name": "forestcover",
              "summary": "{\n  \"name\": \"forestcover\",\n  \"rows\": 15120,\n  \"fields\": [\n    {\n      \"column\": \"Elevation\",\n      \"properties\": {\n        \"dtype\": \"number\",\n        \"std\": 417,\n        \"min\": 1863,\n        \"max\": 3849,\n        \"num_unique_values\": 1665,\n        \"samples\": [\n          2397,\n          2056,\n          2877\n        ],\n        \"semantic_type\": \"\",\n        \"description\": \"\"\n      }\n    },\n    {\n      \"column\": \"Aspect\",\n      \"properties\": {\n        \"dtype\": \"number\",\n        \"std\": 110,\n        \"min\": 0,\n        \"max\": 360,\n        \"num_unique_values\": 361,\n        \"samples\": [\n          10,\n          330,\n          299\n        ],\n        \"semantic_type\": \"\",\n        \"description\": \"\"\n      }\n    },\n    {\n      \"column\": \"Slope\",\n      \"properties\": {\n        \"dtype\": \"number\",\n        \"std\": 8,\n        \"min\": 0,\n        \"max\": 52,\n        \"num_unique_values\": 52,\n        \"samples\": [\n          30,\n          34,\n          44\n        ],\n        \"semantic_type\": \"\",\n        \"description\": \"\"\n      }\n    },\n    {\n      \"column\": \"Horizontal_Distance_To_Hydrology\",\n      \"properties\": {\n        \"dtype\": \"number\",\n        \"std\": 210,\n        \"min\": 0,\n        \"max\": 1343,\n        \"num_unique_values\": 400,\n        \"samples\": [\n          510,\n          890,\n          228\n        ],\n        \"semantic_type\": \"\",\n        \"description\": \"\"\n      }\n    },\n    {\n      \"column\": \"Vertical_Distance_To_Hydrology\",\n      \"properties\": {\n        \"dtype\": \"number\",\n        \"std\": 61,\n        \"min\": -146,\n        \"max\": 554,\n        \"num_unique_values\": 423,\n        \"samples\": [\n          62,\n          245,\n          -25\n        ],\n        \"semantic_type\": \"\",\n        \"description\": \"\"\n      }\n    },\n    {\n      \"column\": \"Horizontal_Distance_To_Roadways\",\n      \"properties\": {\n        \"dtype\": \"number\",\n        \"std\": 1325,\n        \"min\": 0,\n        \"max\": 6890,\n        \"num_unique_values\": 3250,\n        \"samples\": [\n          3501,\n          4497,\n          3389\n        ],\n        \"semantic_type\": \"\",\n        \"description\": \"\"\n      }\n    },\n    {\n      \"column\": \"Hillshade_9am\",\n      \"properties\": {\n        \"dtype\": \"number\",\n        \"std\": 30,\n        \"min\": 0,\n        \"max\": 254,\n        \"num_unique_values\": 176,\n        \"samples\": [\n          228,\n          216,\n          115\n        ],\n        \"semantic_type\": \"\",\n        \"description\": \"\"\n      }\n    },\n    {\n      \"column\": \"Hillshade_Noon\",\n      \"properties\": {\n        \"dtype\": \"number\",\n        \"std\": 22,\n        \"min\": 99,\n        \"max\": 254,\n        \"num_unique_values\": 141,\n        \"samples\": [\n          171,\n          176,\n          160\n        ],\n        \"semantic_type\": \"\",\n        \"description\": \"\"\n      }\n    },\n    {\n      \"column\": \"Hillshade_3pm\",\n      \"properties\": {\n        \"dtype\": \"number\",\n        \"std\": 45,\n        \"min\": 0,\n        \"max\": 248,\n        \"num_unique_values\": 247,\n        \"samples\": [\n          177,\n          104,\n          43\n        ],\n        \"semantic_type\": \"\",\n        \"description\": \"\"\n      }\n    },\n    {\n      \"column\": \"Horizontal_Distance_To_Fire_Points\",\n      \"properties\": {\n        \"dtype\": \"number\",\n        \"std\": 1099,\n        \"min\": 0,\n        \"max\": 6993,\n        \"num_unique_values\": 2710,\n        \"samples\": [\n          4734,\n          5745,\n          1339\n        ],\n        \"semantic_type\": \"\",\n        \"description\": \"\"\n      }\n    },\n    {\n      \"column\": \"Wilderness_Area\",\n      \"properties\": {\n        \"dtype\": \"category\",\n        \"num_unique_values\": 4,\n        \"samples\": [\n          \"Rawah\",\n          \"Neota\",\n          \"Cache la Poudre\"\n        ],\n        \"semantic_type\": \"\",\n        \"description\": \"\"\n      }\n    },\n    {\n      \"column\": \"Soil_Type\",\n      \"properties\": {\n        \"dtype\": \"number\",\n        \"std\": 12,\n        \"min\": 1,\n        \"max\": 40,\n        \"num_unique_values\": 38,\n        \"samples\": [\n          37,\n          8,\n          4\n        ],\n        \"semantic_type\": \"\",\n        \"description\": \"\"\n      }\n    },\n    {\n      \"column\": \"Cover_Type\",\n      \"properties\": {\n        \"dtype\": \"number\",\n        \"std\": 2,\n        \"min\": 1,\n        \"max\": 7,\n        \"num_unique_values\": 7,\n        \"samples\": [\n          6,\n          1,\n          4\n        ],\n        \"semantic_type\": \"\",\n        \"description\": \"\"\n      }\n    }\n  ]\n}"
            }
          },
          "metadata": {},
          "execution_count": 17
        }
      ],
      "source": [
        "forestcover = pd.read_csv('data/forest_cover.csv')\n",
        "forestcover = forestcover.sample(frac=1, random_state=1)\n",
        "forestcover.head()\n"
      ]
    },
    {
      "cell_type": "markdown",
      "source": [
        "## 3.B - Label Distribution\n",
        "\n",
        "Create a label array and use `value_counts()` to display the distribution of the label values as proportions."
      ],
      "metadata": {
        "id": "EvwE5OB7UyRP"
      },
      "id": "EvwE5OB7UyRP"
    },
    {
      "cell_type": "code",
      "execution_count": 18,
      "id": "a3e99fa9-f525-4cac-adee-fa98e7ced0c5",
      "metadata": {
        "id": "a3e99fa9-f525-4cac-adee-fa98e7ced0c5",
        "colab": {
          "base_uri": "https://localhost:8080/",
          "height": 335
        },
        "outputId": "7c0a3cac-9fcc-40ca-ae80-491a94342edc"
      },
      "outputs": [
        {
          "output_type": "execute_result",
          "data": {
            "text/plain": [
              "Cover_Type\n",
              "6    0.142857\n",
              "1    0.142857\n",
              "7    0.142857\n",
              "5    0.142857\n",
              "2    0.142857\n",
              "4    0.142857\n",
              "3    0.142857\n",
              "Name: proportion, dtype: float64"
            ],
            "text/html": [
              "<div>\n",
              "<style scoped>\n",
              "    .dataframe tbody tr th:only-of-type {\n",
              "        vertical-align: middle;\n",
              "    }\n",
              "\n",
              "    .dataframe tbody tr th {\n",
              "        vertical-align: top;\n",
              "    }\n",
              "\n",
              "    .dataframe thead th {\n",
              "        text-align: right;\n",
              "    }\n",
              "</style>\n",
              "<table border=\"1\" class=\"dataframe\">\n",
              "  <thead>\n",
              "    <tr style=\"text-align: right;\">\n",
              "      <th></th>\n",
              "      <th>proportion</th>\n",
              "    </tr>\n",
              "    <tr>\n",
              "      <th>Cover_Type</th>\n",
              "      <th></th>\n",
              "    </tr>\n",
              "  </thead>\n",
              "  <tbody>\n",
              "    <tr>\n",
              "      <th>6</th>\n",
              "      <td>0.142857</td>\n",
              "    </tr>\n",
              "    <tr>\n",
              "      <th>1</th>\n",
              "      <td>0.142857</td>\n",
              "    </tr>\n",
              "    <tr>\n",
              "      <th>7</th>\n",
              "      <td>0.142857</td>\n",
              "    </tr>\n",
              "    <tr>\n",
              "      <th>5</th>\n",
              "      <td>0.142857</td>\n",
              "    </tr>\n",
              "    <tr>\n",
              "      <th>2</th>\n",
              "      <td>0.142857</td>\n",
              "    </tr>\n",
              "    <tr>\n",
              "      <th>4</th>\n",
              "      <td>0.142857</td>\n",
              "    </tr>\n",
              "    <tr>\n",
              "      <th>3</th>\n",
              "      <td>0.142857</td>\n",
              "    </tr>\n",
              "  </tbody>\n",
              "</table>\n",
              "</div><br><label><b>dtype:</b> float64</label>"
            ]
          },
          "metadata": {},
          "execution_count": 18
        }
      ],
      "source": [
        "y1 = forestcover.Cover_Type.values\n",
        "forestcover.Cover_Type.value_counts(normalize=True)"
      ]
    },
    {
      "cell_type": "markdown",
      "source": [
        "## 3.C - Grouping Features\n",
        "\n",
        "Create lists containing the names of the numerical and categorical features. Print these lists along with messages indicating which features are numerical and which are categorical."
      ],
      "metadata": {
        "id": "UBGgn232U49W"
      },
      "id": "UBGgn232U49W"
    },
    {
      "cell_type": "code",
      "execution_count": 19,
      "id": "5c036901-eb0a-405c-ae1b-ca2bf4264308",
      "metadata": {
        "id": "5c036901-eb0a-405c-ae1b-ca2bf4264308",
        "colab": {
          "base_uri": "https://localhost:8080/"
        },
        "outputId": "4285d860-1581-455c-add6-89e4f609255b"
      },
      "outputs": [
        {
          "output_type": "stream",
          "name": "stdout",
          "text": [
            "Numerical Features:\n",
            "['Elevation' 'Aspect' 'Slope' 'Horizontal_Distance_To_Hydrology'\n",
            " 'Vertical_Distance_To_Hydrology' 'Horizontal_Distance_To_Roadways'\n",
            " 'Hillshade_9am' 'Hillshade_Noon' 'Hillshade_3pm'\n",
            " 'Horizontal_Distance_To_Fire_Points' 'Soil_Type']\n",
            "\n",
            "Categorical Features:\n",
            "['Wilderness_Area']\n"
          ]
        }
      ],
      "source": [
        "num_features = forestcover.columns.values[[0,1,2,3,4,5,6,7,8,9,11]]\n",
        "cat_features = forestcover.columns.values[[10]]\n",
        "\n",
        "print('Numerical Features:')\n",
        "print(num_features)\n",
        "print()\n",
        "print('Categorical Features:')\n",
        "print(cat_features)"
      ]
    },
    {
      "cell_type": "markdown",
      "source": [
        "## 3.D - Counting Levels\n",
        "\n",
        "Determine the number of levels for each categorical feature. Display the results my printing a message of the following form for each feature:\n",
        "\n",
        "    [feature] has [num_levels] levels.\n",
        "\n",
        "The bracketed expressions should be replaced with the appropriate values."
      ],
      "metadata": {
        "id": "T_gFqd7-U7_z"
      },
      "id": "T_gFqd7-U7_z"
    },
    {
      "cell_type": "code",
      "execution_count": 20,
      "id": "4811de7f-18fa-48fa-b8b3-ea4d6c07a918",
      "metadata": {
        "id": "4811de7f-18fa-48fa-b8b3-ea4d6c07a918",
        "colab": {
          "base_uri": "https://localhost:8080/"
        },
        "outputId": "f844fe2c-efa2-435b-a2ec-3347395ab288"
      },
      "outputs": [
        {
          "output_type": "stream",
          "name": "stdout",
          "text": [
            "Wilderness_Area has 4 levels.\n"
          ]
        }
      ],
      "source": [
        "for c in cat_features:\n",
        "    print(f'{c} has {len(forestcover[c].unique())} levels.')"
      ]
    },
    {
      "cell_type": "markdown",
      "source": [
        "## 3.E - Data Preprocessing\n",
        "\n",
        "Create instances of `StandardScaler` and `OneHotEncoder`, and then use them to create an instance of `ColumnTransformer`, applying each preprocessing object to the appropriate columns. Then fit and apply your `ColumnTransformer` to the DataFrame containing your training data. Store the resulting feature array in a variable.\n",
        "\n",
        "Print the shape of the final feature array.\n",
        "\n",
        "**Use the preprocessed features when training, evaluating, or applying models in Part 4.**"
      ],
      "metadata": {
        "id": "l6F3sr37VL_1"
      },
      "id": "l6F3sr37VL_1"
    },
    {
      "cell_type": "code",
      "execution_count": 21,
      "id": "c3379436-ac71-48c3-ad1b-821d5d69a2e9",
      "metadata": {
        "id": "c3379436-ac71-48c3-ad1b-821d5d69a2e9",
        "colab": {
          "base_uri": "https://localhost:8080/"
        },
        "outputId": "356095a3-52eb-4cf0-909d-34e67cea94fc"
      },
      "outputs": [
        {
          "output_type": "execute_result",
          "data": {
            "text/plain": [
              "(15120, 15)"
            ]
          },
          "metadata": {},
          "execution_count": 21
        }
      ],
      "source": [
        "scaler = StandardScaler()\n",
        "encoder = OneHotEncoder()\n",
        "\n",
        "preprocessor1 = ColumnTransformer([\n",
        "    ('scaler', scaler, num_features),\n",
        "    ('encoder', encoder, cat_features)\n",
        "])\n",
        "\n",
        "X1 = preprocessor1.fit_transform(forestcover)\n",
        "X1.shape"
      ]
    },
    {
      "cell_type": "markdown",
      "id": "40e9841d-d9b5-48ac-b050-ce569e306af6",
      "metadata": {
        "id": "40e9841d-d9b5-48ac-b050-ce569e306af6"
      },
      "source": [
        "# Part 4: Selecting and Applying a Model (Forest Cover Data)"
      ]
    },
    {
      "cell_type": "markdown",
      "source": [
        "## 4.A - Cross Validation for Logistic Regression\n",
        "\n",
        "Create an instance of `LogisticRegression`. Use `cross_value_score()` to estimate the model's out-of-sample\n",
        "performance on the dataset. Use 5-fold CV with accuracy as the metric and set `n_jobs=-1`. Print the scores for each fold, as well as mean score. Round all scores to 3 decimal places."
      ],
      "metadata": {
        "id": "-sKqpV1_V80k"
      },
      "id": "-sKqpV1_V80k"
    },
    {
      "cell_type": "code",
      "execution_count": 22,
      "id": "43ca6b1b-a93d-44b8-b467-25cf9c015925",
      "metadata": {
        "id": "43ca6b1b-a93d-44b8-b467-25cf9c015925",
        "colab": {
          "base_uri": "https://localhost:8080/"
        },
        "outputId": "7c7b9950-2fb1-47d6-88e5-41f9b97a5b09"
      },
      "outputs": [
        {
          "output_type": "stream",
          "name": "stdout",
          "text": [
            "Scores: [0.687 0.68  0.683 0.687 0.676]\n",
            "CV Score: 0.683\n"
          ]
        }
      ],
      "source": [
        "lr_mod1 = LogisticRegression()\n",
        "\n",
        "scores = cross_val_score(lr_mod, X1, y1, cv=5, scoring='accuracy', n_jobs=-1)\n",
        "print('Scores:', scores.round(3))\n",
        "print('CV Score:', scores.mean().round(3))"
      ]
    },
    {
      "cell_type": "markdown",
      "source": [
        "## 4.B - Hyperparameter Tuning for KNN\n",
        "\n",
        "Create an instance of `KNeighborsClassifier` specifying no parameter values.  Use `GridSearchCV` to perform hyperparameter tuning with 5-fold cross validation for your KNN model. Score your models according to accuracy and set `n_jobs=-1`. Tune over the `n_neighbors` parameter, considering the following hyperparameter values: **1, 2, 3, 4, 5**\n",
        "\n",
        "Print the best hyperparameter value found by grid search, as well as the best score found. Print additional text to indicate the meaning of these values in the output."
      ],
      "metadata": {
        "id": "OqpDRDAzWA7A"
      },
      "id": "OqpDRDAzWA7A"
    },
    {
      "cell_type": "code",
      "execution_count": 23,
      "id": "ece786d0-14a8-4012-a4fc-bb042557cc3a",
      "metadata": {
        "id": "ece786d0-14a8-4012-a4fc-bb042557cc3a",
        "colab": {
          "base_uri": "https://localhost:8080/"
        },
        "outputId": "6f80b0c9-4691-4e5e-de36-fa9246d7ecdd"
      },
      "outputs": [
        {
          "output_type": "stream",
          "name": "stdout",
          "text": [
            "Best Parameters: {'n_neighbors': 1}\n",
            "Best CV Score:   0.798478835978836\n"
          ]
        }
      ],
      "source": [
        "knn_mod1 = KNeighborsClassifier()\n",
        "\n",
        "knn_params1 = {\n",
        "    'n_neighbors' : range(1, 6, 1)\n",
        "}\n",
        "\n",
        "knn_grid1 = GridSearchCV(knn_mod1, knn_params1, cv=5, n_jobs=-1)\n",
        "knn_grid1.fit(X1, y1)\n",
        "\n",
        "print('Best Parameters:', knn_grid1.best_params_)\n",
        "print('Best CV Score:  ', knn_grid1.best_score_)"
      ]
    },
    {
      "cell_type": "markdown",
      "source": [
        "## 4.C - Visualizing Results\n",
        "\n",
        "Replace the blank in line 1 of this cell with the name of your parameter dictionary from 4.B. Replace the blank in line 2 with the name of your `GridSearchCV` object from 4.B. Then execute this cell to see how the CV scores varied with respect to the hyperparameter values. Use this graph to determine if you should re-run the previous cell with a different range of hyperparameter values."
      ],
      "metadata": {
        "id": "paa9mXi1Wlrx"
      },
      "id": "paa9mXi1Wlrx"
    },
    {
      "cell_type": "code",
      "execution_count": 24,
      "id": "83c41d7e-d386-498c-adc4-340c9e56b1d7",
      "metadata": {
        "id": "83c41d7e-d386-498c-adc4-340c9e56b1d7",
        "colab": {
          "base_uri": "https://localhost:8080/",
          "height": 234
        },
        "outputId": "702f7619-768b-4f4a-9ab3-ee94453afed9"
      },
      "outputs": [
        {
          "output_type": "display_data",
          "data": {
            "text/plain": [
              "<Figure size 400x200 with 1 Axes>"
            ],
            "image/png": "[encoded data removed]"
          },
          "metadata": {}
        }
      ],
      "source": [
        "# 4.C\n",
        "n_neighbors = knn_params1['n_neighbors']\n",
        "scores = knn_grid1.cv_results_['mean_test_score']\n",
        "\n",
        "plt.figure(figsize=[4,2])\n",
        "plt.plot(n_neighbors, scores)\n",
        "plt.xlabel('n_neighbors')\n",
        "plt.ylabel('CV Score')\n",
        "plt.grid()\n",
        "plt.show()"
      ]
    },
    {
      "cell_type": "markdown",
      "source": [
        "## 4.D - Hyperparameter Tuning for Decision Trees\n",
        "\n",
        "Create an instance of `DecisionTreeClassifer` with `random_state=1` but specifying no other parameter values.  Use `GridSearchCV` to perform hyperparameter tuning with 5-fold cross validation for your decision tree model. Score your models according to accuracy and set `n_jobs=-1`. Tune over the `max_depth` parameter, considering the following hyperparameter values: **4, 8, 12, 16, 20, 24**.\n",
        "\n",
        "Print the best hyperparameter value found by grid search, as well as the best score found. Print additional text to indicate the meaning of these values in the output."
      ],
      "metadata": {
        "id": "-6rdsXrZX__t"
      },
      "id": "-6rdsXrZX__t"
    },
    {
      "cell_type": "code",
      "execution_count": 25,
      "id": "2e990e1c-9541-46f1-bfeb-cc88d580163c",
      "metadata": {
        "id": "2e990e1c-9541-46f1-bfeb-cc88d580163c",
        "colab": {
          "base_uri": "https://localhost:8080/"
        },
        "outputId": "5550ad9e-57b6-408d-e9cf-9e48ca62b3ea"
      },
      "outputs": [
        {
          "output_type": "stream",
          "name": "stdout",
          "text": [
            "Best Parameters: {'max_depth': 20}\n",
            "Best CV Score:   0.7857804232804233\n"
          ]
        }
      ],
      "source": [
        "tree_mod1 = DecisionTreeClassifier(random_state=1)\n",
        "\n",
        "tree_params1 = {\n",
        "    'max_depth' : range(4, 28, 4)\n",
        "}\n",
        "\n",
        "tree_grid1 = GridSearchCV(tree_mod1, tree_params1, cv=5, n_jobs=-1)\n",
        "tree_grid1.fit(X1, y1)\n",
        "\n",
        "print('Best Parameters:', tree_grid1.best_params_)\n",
        "print('Best CV Score:  ', tree_grid1.best_score_)"
      ]
    },
    {
      "cell_type": "markdown",
      "source": [
        "## 4.E - Visualizing Results\n",
        "\n",
        "Replace the blank in line 1 of this cell with the name of your parameter dictionary from 4.D. Replace the blank in line 2 with the name of your `GridSearchCV` object from 4.D. Then execute this cell to see how the CV scores varied with respect to the hyperparameter values. Use this graph to determine if you should re-run the previous cell with a different range of hyperparameter values."
      ],
      "metadata": {
        "id": "HHo0368rYKuj"
      },
      "id": "HHo0368rYKuj"
    },
    {
      "cell_type": "code",
      "execution_count": 26,
      "id": "a937e00c-cdd4-42f4-ada0-dfa53e1d321d",
      "metadata": {
        "id": "a937e00c-cdd4-42f4-ada0-dfa53e1d321d",
        "colab": {
          "base_uri": "https://localhost:8080/",
          "height": 234
        },
        "outputId": "663b15c3-d664-4fbd-c2b1-54c4c4e84d3e"
      },
      "outputs": [
        {
          "output_type": "display_data",
          "data": {
            "text/plain": [
              "<Figure size 400x200 with 1 Axes>"
            ],
            "image/png": "[encoded data removed]"
          },
          "metadata": {}
        }
      ],
      "source": [
        "# 4.E\n",
        "max_depth = tree_params1['max_depth']\n",
        "scores = tree_grid1.cv_results_['mean_test_score']\n",
        "\n",
        "plt.figure(figsize=[4,2])\n",
        "plt.plot(max_depth, scores)\n",
        "plt.xlabel('max_depth')\n",
        "plt.ylabel('CV Score')\n",
        "plt.grid()\n",
        "plt.show()"
      ]
    },
    {
      "cell_type": "markdown",
      "source": [
        "## 4.F - Hyperparameter Tuning for Random Forests\n",
        "\n",
        "Create an instance of `RandomForestClassifer` with `random_state=1` and `n_estimators=100` but specifying no other parameter values.  Use `GridSearchCV` to perform hyperparameter tuning with 5-fold cross validation for your random forest model. Score your models according to accuracy and set `n_jobs=-1`. Tune over the `max_depth` parameter, considering the following hyperparameter values: **24, 30, 36, 42, 48**.\n",
        "\n",
        "Print the best hyperparameter value found by grid search, as well as the best score found. Print additional text to indicate the meaning of these values in the output.\n"
      ],
      "metadata": {
        "id": "kTrBl_62YlWd"
      },
      "id": "kTrBl_62YlWd"
    },
    {
      "cell_type": "code",
      "execution_count": 27,
      "id": "987414bf-7376-4212-a779-fb27d50d2c7c",
      "metadata": {
        "id": "987414bf-7376-4212-a779-fb27d50d2c7c",
        "colab": {
          "base_uri": "https://localhost:8080/"
        },
        "outputId": "802ef72a-1da6-42f3-81d5-3476f6671b0f"
      },
      "outputs": [
        {
          "output_type": "stream",
          "name": "stdout",
          "text": [
            "Best Parameters: {'max_depth': 24}\n",
            "Best CV Score:   0.8596560846560848\n"
          ]
        }
      ],
      "source": [
        "rf_mod1 = RandomForestClassifier(random_state=1, n_estimators=100)\n",
        "\n",
        "rf_params1 = {\n",
        "    'max_depth' : range(24, 48, 6)\n",
        "}\n",
        "\n",
        "rf_grid1 = GridSearchCV(rf_mod1, rf_params1, cv=5, n_jobs=-1)\n",
        "rf_grid1.fit(X1, y1)\n",
        "\n",
        "print('Best Parameters:', rf_grid1.best_params_)\n",
        "print('Best CV Score:  ', rf_grid1.best_score_)"
      ]
    },
    {
      "cell_type": "markdown",
      "source": [
        "## 4.G - Visualizing Results\n",
        "\n",
        "Replace the blank in line 1 of this cell with the name of your parameter dictionary from 4.F. Replace the blank in line 2 with the name of your `GridSearchCV` object from 4.F. Then execute this cell to see how the CV scores varied with respect to the hyperparameter values."
      ],
      "metadata": {
        "id": "HVCH9IA7YyeB"
      },
      "id": "HVCH9IA7YyeB"
    },
    {
      "cell_type": "code",
      "execution_count": 28,
      "id": "41f31dd7-a048-4bff-a3d4-832ff0930be0",
      "metadata": {
        "id": "41f31dd7-a048-4bff-a3d4-832ff0930be0",
        "colab": {
          "base_uri": "https://localhost:8080/",
          "height": 234
        },
        "outputId": "3a410008-c594-4ae7-a8c2-b0ae4cc2c8fc"
      },
      "outputs": [
        {
          "output_type": "display_data",
          "data": {
            "text/plain": [
              "<Figure size 400x200 with 1 Axes>"
            ],
            "image/png": "[encoded data removed]"
          },
          "metadata": {}
        }
      ],
      "source": [
        "# 4.G\n",
        "max_depth = rf_params1['max_depth']\n",
        "scores = rf_grid1.cv_results_['mean_test_score']\n",
        "\n",
        "plt.figure(figsize=[4,2])\n",
        "plt.plot(max_depth, scores)\n",
        "plt.xlabel('max_depth')\n",
        "plt.ylabel('CV Score')\n",
        "plt.grid()\n",
        "plt.show()"
      ]
    },
    {
      "cell_type": "markdown",
      "source": [
        "## 4.H - Classification Report\n",
        "\n",
        "Identify which of the models from above gave you the best results. Then use that model with `cross_val_predict()` with `cv=5` to generate out-of-sample predictions for the dataset. Use these predictions with `classification_report()` to generate a classification report."
      ],
      "metadata": {
        "id": "v5Y0BArLZOvT"
      },
      "id": "v5Y0BArLZOvT"
    },
    {
      "cell_type": "code",
      "execution_count": 30,
      "id": "4c7d8bfa-5e4e-4346-8c7f-2dca19711e6f",
      "metadata": {
        "id": "4c7d8bfa-5e4e-4346-8c7f-2dca19711e6f",
        "colab": {
          "base_uri": "https://localhost:8080/"
        },
        "outputId": "435454e8-b9e6-486d-f2bb-9a14f3b37796"
      },
      "outputs": [
        {
          "output_type": "stream",
          "name": "stdout",
          "text": [
            "              precision    recall  f1-score   support\n",
            "\n",
            "           1       0.78      0.77      0.78      2160\n",
            "           2       0.79      0.69      0.73      2160\n",
            "           3       0.85      0.82      0.83      2160\n",
            "           4       0.92      0.97      0.95      2160\n",
            "           5       0.89      0.95      0.92      2160\n",
            "           6       0.83      0.86      0.85      2160\n",
            "           7       0.94      0.96      0.95      2160\n",
            "\n",
            "    accuracy                           0.86     15120\n",
            "   macro avg       0.86      0.86      0.86     15120\n",
            "weighted avg       0.86      0.86      0.86     15120\n",
            "\n"
          ]
        }
      ],
      "source": [
        "final_model1 = rf_grid1.best_estimator_\n",
        "\n",
        "cv_pred2 = cross_val_predict(final_model1, X1, y1, cv=5, n_jobs=-1)\n",
        "\n",
        "print(classification_report(y1, cv_pred2))"
      ]
    },
    {
      "cell_type": "markdown",
      "source": [
        "## 4.I - Confusion Matrix\n",
        "\n",
        "Use your out-of-sample predictions with `confusion_matrix()` to generate a confusion matrix. Display the confusion matrix as a DataFrame, with the rows and columns labeled according to the actual class names."
      ],
      "metadata": {
        "id": "IOzkuprFZXuH"
      },
      "id": "IOzkuprFZXuH"
    },
    {
      "cell_type": "code",
      "execution_count": 31,
      "id": "a87bb41f-cf84-492a-8480-a302a6116ff0",
      "metadata": {
        "id": "a87bb41f-cf84-492a-8480-a302a6116ff0",
        "colab": {
          "base_uri": "https://localhost:8080/",
          "height": 269
        },
        "outputId": "f996a359-5a08-4933-ad24-69be867ef2ab"
      },
      "outputs": [
        {
          "output_type": "execute_result",
          "data": {
            "text/plain": [
              "      0     1     2     3     4     5     6\n",
              "0  1660   321     2     0    45     6   126\n",
              "1   383  1488    50     0   172    53    14\n",
              "2     0     7  1766   105    22   260     0\n",
              "3     0     0    36  2097     0    27     0\n",
              "4     2    58    33     0  2043    24     0\n",
              "5     1    10   194    72    16  1867     0\n",
              "6    76     5     0     0     2     0  2077"
            ],
            "text/html": [
              "\n",
              "  <div id=\"df-5247dbbb-0531-419c-bdd4-2819125878eb\" class=\"colab-df-container\">\n",
              "    <div>\n",
              "<style scoped>\n",
              "    .dataframe tbody tr th:only-of-type {\n",
              "        vertical-align: middle;\n",
              "    }\n",
              "\n",
              "    .dataframe tbody tr th {\n",
              "        vertical-align: top;\n",
              "    }\n",
              "\n",
              "    .dataframe thead th {\n",
              "        text-align: right;\n",
              "    }\n",
              "</style>\n",
              "<table border=\"1\" class=\"dataframe\">\n",
              "  <thead>\n",
              "    <tr style=\"text-align: right;\">\n",
              "      <th></th>\n",
              "      <th>0</th>\n",
              "      <th>1</th>\n",
              "      <th>2</th>\n",
              "      <th>3</th>\n",
              "      <th>4</th>\n",
              "      <th>5</th>\n",
              "      <th>6</th>\n",
              "    </tr>\n",
              "  </thead>\n",
              "  <tbody>\n",
              "    <tr>\n",
              "      <th>0</th>\n",
              "      <td>1660</td>\n",
              "      <td>321</td>\n",
              "      <td>2</td>\n",
              "      <td>0</td>\n",
              "      <td>45</td>\n",
              "      <td>6</td>\n",
              "      <td>126</td>\n",
              "    </tr>\n",
              "    <tr>\n",
              "      <th>1</th>\n",
              "      <td>383</td>\n",
              "      <td>1488</td>\n",
              "      <td>50</td>\n",
              "      <td>0</td>\n",
              "      <td>172</td>\n",
              "      <td>53</td>\n",
              "      <td>14</td>\n",
              "    </tr>\n",
              "    <tr>\n",
              "      <th>2</th>\n",
              "      <td>0</td>\n",
              "      <td>7</td>\n",
              "      <td>1766</td>\n",
              "      <td>105</td>\n",
              "      <td>22</td>\n",
              "      <td>260</td>\n",
              "      <td>0</td>\n",
              "    </tr>\n",
              "    <tr>\n",
              "      <th>3</th>\n",
              "      <td>0</td>\n",
              "      <td>0</td>\n",
              "      <td>36</td>\n",
              "      <td>2097</td>\n",
              "      <td>0</td>\n",
              "      <td>27</td>\n",
              "      <td>0</td>\n",
              "    </tr>\n",
              "    <tr>\n",
              "      <th>4</th>\n",
              "      <td>2</td>\n",
              "      <td>58</td>\n",
              "      <td>33</td>\n",
              "      <td>0</td>\n",
              "      <td>2043</td>\n",
              "      <td>24</td>\n",
              "      <td>0</td>\n",
              "    </tr>\n",
              "    <tr>\n",
              "      <th>5</th>\n",
              "      <td>1</td>\n",
              "      <td>10</td>\n",
              "      <td>194</td>\n",
              "      <td>72</td>\n",
              "      <td>16</td>\n",
              "      <td>1867</td>\n",
              "      <td>0</td>\n",
              "    </tr>\n",
              "    <tr>\n",
              "      <th>6</th>\n",
              "      <td>76</td>\n",
              "      <td>5</td>\n",
              "      <td>0</td>\n",
              "      <td>0</td>\n",
              "      <td>2</td>\n",
              "      <td>0</td>\n",
              "      <td>2077</td>\n",
              "    </tr>\n",
              "  </tbody>\n",
              "</table>\n",
              "</div>\n",
              "    <div class=\"colab-df-buttons\">\n",
              "\n",
              "  <div class=\"colab-df-container\">\n",
              "    <button class=\"colab-df-convert\" onclick=\"convertToInteractive('df-5247dbbb-0531-419c-bdd4-2819125878eb')\"\n",
              "            title=\"Convert this dataframe to an interactive table.\"\n",
              "            style=\"display:none;\">\n",
              "\n",
              "  <svg xmlns=\"http://www.w3.org/2000/svg\" height=\"24px\" viewBox=\"0 -960 960 960\">\n",
              "    <path d=\"M120-120v-720h720v720H120Zm60-500h600v-160H180v160Zm220 220h160v-160H400v160Zm0 220h160v-160H400v160ZM180-400h160v-160H180v160Zm440 0h160v-160H620v160ZM180-180h160v-160H180v160Zm440 0h160v-160H620v160Z\"/>\n",
              "  </svg>\n",
              "    </button>\n",
              "\n",
              "  <style>\n",
              "    .colab-df-container {\n",
              "      display:flex;\n",
              "      gap: 12px;\n",
              "    }\n",
              "\n",
              "    .colab-df-convert {\n",
              "      background-color: #E8F0FE;\n",
              "      border: none;\n",
              "      border-radius: 50%;\n",
              "      cursor: pointer;\n",
              "      display: none;\n",
              "      fill: #1967D2;\n",
              "      height: 32px;\n",
              "      padding: 0 0 0 0;\n",
              "      width: 32px;\n",
              "    }\n",
              "\n",
              "    .colab-df-convert:hover {\n",
              "      background-color: #E2EBFA;\n",
              "      box-shadow: 0px 1px 2px rgba(60, 64, 67, 0.3), 0px 1px 3px 1px rgba(60, 64, 67, 0.15);\n",
              "      fill: #174EA6;\n",
              "    }\n",
              "\n",
              "    .colab-df-buttons div {\n",
              "      margin-bottom: 4px;\n",
              "    }\n",
              "\n",
              "    [theme=dark] .colab-df-convert {\n",
              "      background-color: #3B4455;\n",
              "      fill: #D2E3FC;\n",
              "    }\n",
              "\n",
              "    [theme=dark] .colab-df-convert:hover {\n",
              "      background-color: #434B5C;\n",
              "      box-shadow: 0px 1px 3px 1px rgba(0, 0, 0, 0.15);\n",
              "      filter: drop-shadow(0px 1px 2px rgba(0, 0, 0, 0.3));\n",
              "      fill: #FFFFFF;\n",
              "    }\n",
              "  </style>\n",
              "\n",
              "    <script>\n",
              "      const buttonEl =\n",
              "        document.querySelector('#df-5247dbbb-0531-419c-bdd4-2819125878eb button.colab-df-convert');\n",
              "      buttonEl.style.display =\n",
              "        google.colab.kernel.accessAllowed ? 'block' : 'none';\n",
              "\n",
              "      async function convertToInteractive(key) {\n",
              "        const element = document.querySelector('#df-5247dbbb-0531-419c-bdd4-2819125878eb');\n",
              "        const dataTable =\n",
              "          await google.colab.kernel.invokeFunction('convertToInteractive',\n",
              "                                                    [key], {});\n",
              "        if (!dataTable) return;\n",
              "\n",
              "        const docLinkHtml = 'Like what you see? Visit the ' +\n",
              "          '<a target=\"_blank\" href=https://colab.research.google.com/notebooks/data_table.ipynb>data table notebook</a>'\n",
              "          + ' to learn more about interactive tables.';\n",
              "        element.innerHTML = '';\n",
              "        dataTable['output_type'] = 'display_data';\n",
              "        await google.colab.output.renderOutput(dataTable, element);\n",
              "        const docLink = document.createElement('div');\n",
              "        docLink.innerHTML = docLinkHtml;\n",
              "        element.appendChild(docLink);\n",
              "      }\n",
              "    </script>\n",
              "  </div>\n",
              "\n",
              "\n",
              "<div id=\"df-2eec9625-d569-4305-a15f-3a6d6310c633\">\n",
              "  <button class=\"colab-df-quickchart\" onclick=\"quickchart('df-2eec9625-d569-4305-a15f-3a6d6310c633')\"\n",
              "            title=\"Suggest charts\"\n",
              "            style=\"display:none;\">\n",
              "\n",
              "<svg xmlns=\"http://www.w3.org/2000/svg\" height=\"24px\"viewBox=\"0 0 24 24\"\n",
              "     width=\"24px\">\n",
              "    <g>\n",
              "        <path d=\"M19 3H5c-1.1 0-2 .9-2 2v14c0 1.1.9 2 2 2h14c1.1 0 2-.9 2-2V5c0-1.1-.9-2-2-2zM9 17H7v-7h2v7zm4 0h-2V7h2v10zm4 0h-2v-4h2v4z\"/>\n",
              "    </g>\n",
              "</svg>\n",
              "  </button>\n",
              "\n",
              "<style>\n",
              "  .colab-df-quickchart {\n",
              "      --bg-color: #E8F0FE;\n",
              "      --fill-color: #1967D2;\n",
              "      --hover-bg-color: #E2EBFA;\n",
              "      --hover-fill-color: #174EA6;\n",
              "      --disabled-fill-color: #AAA;\n",
              "      --disabled-bg-color: #DDD;\n",
              "  }\n",
              "\n",
              "  [theme=dark] .colab-df-quickchart {\n",
              "      --bg-color: #3B4455;\n",
              "      --fill-color: #D2E3FC;\n",
              "      --hover-bg-color: #434B5C;\n",
              "      --hover-fill-color: #FFFFFF;\n",
              "      --disabled-bg-color: #3B4455;\n",
              "      --disabled-fill-color: #666;\n",
              "  }\n",
              "\n",
              "  .colab-df-quickchart {\n",
              "    background-color: var(--bg-color);\n",
              "    border: none;\n",
              "    border-radius: 50%;\n",
              "    cursor: pointer;\n",
              "    display: none;\n",
              "    fill: var(--fill-color);\n",
              "    height: 32px;\n",
              "    padding: 0;\n",
              "    width: 32px;\n",
              "  }\n",
              "\n",
              "  .colab-df-quickchart:hover {\n",
              "    background-color: var(--hover-bg-color);\n",
              "    box-shadow: 0 1px 2px rgba(60, 64, 67, 0.3), 0 1px 3px 1px rgba(60, 64, 67, 0.15);\n",
              "    fill: var(--button-hover-fill-color);\n",
              "  }\n",
              "\n",
              "  .colab-df-quickchart-complete:disabled,\n",
              "  .colab-df-quickchart-complete:disabled:hover {\n",
              "    background-color: var(--disabled-bg-color);\n",
              "    fill: var(--disabled-fill-color);\n",
              "    box-shadow: none;\n",
              "  }\n",
              "\n",
              "  .colab-df-spinner {\n",
              "    border: 2px solid var(--fill-color);\n",
              "    border-color: transparent;\n",
              "    border-bottom-color: var(--fill-color);\n",
              "    animation:\n",
              "      spin 1s steps(1) infinite;\n",
              "  }\n",
              "\n",
              "  @keyframes spin {\n",
              "    0% {\n",
              "      border-color: transparent;\n",
              "      border-bottom-color: var(--fill-color);\n",
              "      border-left-color: var(--fill-color);\n",
              "    }\n",
              "    20% {\n",
              "      border-color: transparent;\n",
              "      border-left-color: var(--fill-color);\n",
              "      border-top-color: var(--fill-color);\n",
              "    }\n",
              "    30% {\n",
              "      border-color: transparent;\n",
              "      border-left-color: var(--fill-color);\n",
              "      border-top-color: var(--fill-color);\n",
              "      border-right-color: var(--fill-color);\n",
              "    }\n",
              "    40% {\n",
              "      border-color: transparent;\n",
              "      border-right-color: var(--fill-color);\n",
              "      border-top-color: var(--fill-color);\n",
              "    }\n",
              "    60% {\n",
              "      border-color: transparent;\n",
              "      border-right-color: var(--fill-color);\n",
              "    }\n",
              "    80% {\n",
              "      border-color: transparent;\n",
              "      border-right-color: var(--fill-color);\n",
              "      border-bottom-color: var(--fill-color);\n",
              "    }\n",
              "    90% {\n",
              "      border-color: transparent;\n",
              "      border-bottom-color: var(--fill-color);\n",
              "    }\n",
              "  }\n",
              "</style>\n",
              "\n",
              "  <script>\n",
              "    async function quickchart(key) {\n",
              "      const quickchartButtonEl =\n",
              "        document.querySelector('#' + key + ' button');\n",
              "      quickchartButtonEl.disabled = true;  // To prevent multiple clicks.\n",
              "      quickchartButtonEl.classList.add('colab-df-spinner');\n",
              "      try {\n",
              "        const charts = await google.colab.kernel.invokeFunction(\n",
              "            'suggestCharts', [key], {});\n",
              "      } catch (error) {\n",
              "        console.error('Error during call to suggestCharts:', error);\n",
              "      }\n",
              "      quickchartButtonEl.classList.remove('colab-df-spinner');\n",
              "      quickchartButtonEl.classList.add('colab-df-quickchart-complete');\n",
              "    }\n",
              "    (() => {\n",
              "      let quickchartButtonEl =\n",
              "        document.querySelector('#df-2eec9625-d569-4305-a15f-3a6d6310c633 button');\n",
              "      quickchartButtonEl.style.display =\n",
              "        google.colab.kernel.accessAllowed ? 'block' : 'none';\n",
              "    })();\n",
              "  </script>\n",
              "</div>\n",
              "\n",
              "    </div>\n",
              "  </div>\n"
            ],
            "application/vnd.google.colaboratory.intrinsic+json": {
              "type": "dataframe",
              "summary": "{\n  \"name\": \"pd\",\n  \"rows\": 7,\n  \"fields\": [\n    {\n      \"column\": 0,\n      \"properties\": {\n        \"dtype\": \"number\",\n        \"std\": 614,\n        \"min\": 0,\n        \"max\": 1660,\n        \"num_unique_values\": 6,\n        \"samples\": [\n          1660,\n          383,\n          76\n        ],\n        \"semantic_type\": \"\",\n        \"description\": \"\"\n      }\n    },\n    {\n      \"column\": 1,\n      \"properties\": {\n        \"dtype\": \"number\",\n        \"std\": 549,\n        \"min\": 0,\n        \"max\": 1488,\n        \"num_unique_values\": 7,\n        \"samples\": [\n          321,\n          1488,\n          10\n        ],\n        \"semantic_type\": \"\",\n        \"description\": \"\"\n      }\n    },\n    {\n      \"column\": 2,\n      \"properties\": {\n        \"dtype\": \"number\",\n        \"std\": 650,\n        \"min\": 0,\n        \"max\": 1766,\n        \"num_unique_values\": 7,\n        \"samples\": [\n          2,\n          50,\n          194\n        ],\n        \"semantic_type\": \"\",\n        \"description\": \"\"\n      }\n    },\n    {\n      \"column\": 3,\n      \"properties\": {\n        \"dtype\": \"number\",\n        \"std\": 782,\n        \"min\": 0,\n        \"max\": 2097,\n        \"num_unique_values\": 4,\n        \"samples\": [\n          105,\n          72,\n          0\n        ],\n        \"semantic_type\": \"\",\n        \"description\": \"\"\n      }\n    },\n    {\n      \"column\": 4,\n      \"properties\": {\n        \"dtype\": \"number\",\n        \"std\": 758,\n        \"min\": 0,\n        \"max\": 2043,\n        \"num_unique_values\": 7,\n        \"samples\": [\n          45,\n          172,\n          16\n        ],\n        \"semantic_type\": \"\",\n        \"description\": \"\"\n      }\n    },\n    {\n      \"column\": 5,\n      \"properties\": {\n        \"dtype\": \"number\",\n        \"std\": 688,\n        \"min\": 0,\n        \"max\": 1867,\n        \"num_unique_values\": 7,\n        \"samples\": [\n          6,\n          53,\n          1867\n        ],\n        \"semantic_type\": \"\",\n        \"description\": \"\"\n      }\n    },\n    {\n      \"column\": 6,\n      \"properties\": {\n        \"dtype\": \"number\",\n        \"std\": 777,\n        \"min\": 0,\n        \"max\": 2077,\n        \"num_unique_values\": 4,\n        \"samples\": [\n          14,\n          2077,\n          126\n        ],\n        \"semantic_type\": \"\",\n        \"description\": \"\"\n      }\n    }\n  ]\n}"
            }
          },
          "metadata": {},
          "execution_count": 31
        }
      ],
      "source": [
        "cm2 = confusion_matrix(y1, cv_pred2)\n",
        "pd.DataFrame(cm2)"
      ]
    },
    {
      "cell_type": "markdown",
      "source": [
        "# Submission Instructions\n",
        "\n",
        "1. Perform a Restart and Run All by clicking **Runtime > Restart session and run all**.\n",
        "2. Copy the link to your notebook by clicking **Share > Copy Link**.\n",
        "3. Paste the copied link into the `notebook_url` field in the [Notebook Renderer](https://colab.research.google.com/drive/1CJTipys46ldZxJFwnt7XbdjQUfkmoXeU?usp=sharing) tool and then execute the cell to render the notebook.\n",
        "4. The Notebook Renderer will open up a save file dialog. Save the resulting HTML file yo your local machine.\n",
        "5. Submit the HTML file to Canvas.\n"
      ],
      "metadata": {
        "id": "555TmqJd9QFz"
      },
      "id": "555TmqJd9QFz"
    }
  ],
  "metadata": {
    "kernelspec": {
      "display_name": "Python 3 (ipykernel)",
      "language": "python",
      "name": "python3"
    },
    "language_info": {
      "codemirror_mode": {
        "name": "ipython",
        "version": 3
      },
      "file_extension": ".py",
      "mimetype": "text/x-python",
      "name": "python",
      "nbconvert_exporter": "python",
      "pygments_lexer": "ipython3",
      "version": "3.9.12"
    },
    "colab": {
      "provenance": []
    }
  },
  "nbformat": 4,
  "nbformat_minor": 5
}